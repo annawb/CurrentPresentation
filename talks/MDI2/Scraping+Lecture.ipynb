{
 "cells": [
  {
   "cell_type": "markdown",
   "metadata": {
    "slideshow": {
     "slide_type": "slide"
    }
   },
   "source": [
    "# Collecting and Using Data in Python\n",
    "\n",
    "## Laila A. Wahedi\n",
    "### Massive Data Institute Postdoctoral Fellow <br>McCourt School of Public Policy<br>\n",
    "\n",
    "### Follow along: Wahedi.us, Current Presentation"
   ]
  },
  {
   "cell_type": "markdown",
   "metadata": {
    "slideshow": {
     "slide_type": "slide"
    }
   },
   "source": [
    "# Agenda for today:\n",
    "* More on manipulating data\n",
    "* Scrape data\n",
    "* Merge data into a data frame \n",
    "* Run a basic model on the data"
   ]
  },
  {
   "cell_type": "markdown",
   "metadata": {
    "slideshow": {
     "slide_type": "slide"
    }
   },
   "source": [
    "# Packages to Import For Today\n",
    "* Should all be included with your Anaconda Python Distribution\n",
    " * Raise your hand for help if you have trouble\n",
    "* Our plots will use matplotlib, similar to plotting in matlab\n",
    "* %matplotlib inline tells Jupyter Notebooks to display your plots\n",
    "* from allows you to import part of a package"
   ]
  },
  {
   "cell_type": "code",
   "execution_count": 1,
   "metadata": {
    "slideshow": {
     "slide_type": "fragment"
    }
   },
   "outputs": [
    {
     "name": "stderr",
     "output_type": "stream",
     "text": [
      "/home/law98/anaconda/envs/p3env/lib/python3.6/site-packages/statsmodels/compat/pandas.py:56: FutureWarning: The pandas.core.datetools module is deprecated and will be removed in a future version. Please use the pandas.tseries module instead.\n",
      "  from pandas.core import datetools\n"
     ]
    }
   ],
   "source": [
    "import pandas as pd\n",
    "import numpy as np\n",
    "import pickle\n",
    "import statsmodels.api as sm\n",
    "from sklearn import cluster\n",
    "import matplotlib.pyplot as plt\n",
    "%matplotlib inline\n",
    "from bs4 import BeautifulSoup as bs\n",
    "import requests\n",
    "import time\n",
    "# from ggplot import *"
   ]
  },
  {
   "cell_type": "markdown",
   "metadata": {
    "slideshow": {
     "slide_type": "slide"
    }
   },
   "source": [
    "# Other Useful Packages (not used today)\n",
    "* ggplot: the familiar ggplot2 you know and love from R\n",
    "* seaborn: Makes your plots prettier\n",
    "* plotly: makes interactive visualizations, similar to shiny\n",
    "* gensim: package for doing natural language processing\n",
    "* scipy: used with numpy to do math. Generates random numbers from distributions, does matrix operations, etc. "
   ]
  },
  {
   "cell_type": "markdown",
   "metadata": {
    "slideshow": {
     "slide_type": "slide"
    }
   },
   "source": [
    "# Data Manipulation \n",
    "\n",
    "* Download the .csv file at: <br>\n",
    "https://data.chhs.ca.gov/dataset/asthma-emergency-department-visit-rates-by-zip-code\n",
    "  * OR: https://tinyurl.com/y79jbxlk\n",
    "* Move it to the same directory as your notebook"
   ]
  },
  {
   "cell_type": "code",
   "execution_count": 10,
   "metadata": {
    "slideshow": {
     "slide_type": "slide"
    }
   },
   "outputs": [
    {
     "data": {
      "text/html": [
       "<div>\n",
       "<style>\n",
       "    .dataframe thead tr:only-child th {\n",
       "        text-align: right;\n",
       "    }\n",
       "\n",
       "    .dataframe thead th {\n",
       "        text-align: left;\n",
       "    }\n",
       "\n",
       "    .dataframe tbody tr th {\n",
       "        vertical-align: top;\n",
       "    }\n",
       "</style>\n",
       "<table border=\"1\" class=\"dataframe\">\n",
       "  <thead>\n",
       "    <tr style=\"text-align: right;\">\n",
       "      <th></th>\n",
       "      <th>Year</th>\n",
       "      <th>ZIP code</th>\n",
       "      <th>Age Group</th>\n",
       "      <th>Number of Visits</th>\n",
       "      <th>Age-adjusted rate</th>\n",
       "      <th>County Fips code</th>\n",
       "      <th>County</th>\n",
       "    </tr>\n",
       "  </thead>\n",
       "  <tbody>\n",
       "    <tr>\n",
       "      <th>0</th>\n",
       "      <td>2015</td>\n",
       "      <td>90004\\n(34.07646, -118.309453)</td>\n",
       "      <td>Children (0-17)</td>\n",
       "      <td>117.0</td>\n",
       "      <td>91.7</td>\n",
       "      <td>6037</td>\n",
       "      <td>LOS ANGELES</td>\n",
       "    </tr>\n",
       "    <tr>\n",
       "      <th>1</th>\n",
       "      <td>2015</td>\n",
       "      <td>90011\\n(34.007055, -118.258872)</td>\n",
       "      <td>Children (0-17)</td>\n",
       "      <td>381.0</td>\n",
       "      <td>102.8</td>\n",
       "      <td>6037</td>\n",
       "      <td>LOS ANGELES</td>\n",
       "    </tr>\n",
       "    <tr>\n",
       "      <th>2</th>\n",
       "      <td>2015</td>\n",
       "      <td>90002\\n(33.949079, -118.247877)</td>\n",
       "      <td>Children (0-17)</td>\n",
       "      <td>227.0</td>\n",
       "      <td>123.8</td>\n",
       "      <td>6037</td>\n",
       "      <td>LOS ANGELES</td>\n",
       "    </tr>\n",
       "    <tr>\n",
       "      <th>3</th>\n",
       "      <td>2013</td>\n",
       "      <td>90004\\n(34.07646, -118.309453)</td>\n",
       "      <td>Children (0-17)</td>\n",
       "      <td>169.0</td>\n",
       "      <td>129.4</td>\n",
       "      <td>6037</td>\n",
       "      <td>LOS ANGELES</td>\n",
       "    </tr>\n",
       "    <tr>\n",
       "      <th>4</th>\n",
       "      <td>2014</td>\n",
       "      <td>90012\\n(34.064406, -118.239532)</td>\n",
       "      <td>Children (0-17)</td>\n",
       "      <td>22.0</td>\n",
       "      <td>69.1</td>\n",
       "      <td>6037</td>\n",
       "      <td>LOS ANGELES</td>\n",
       "    </tr>\n",
       "  </tbody>\n",
       "</table>\n",
       "</div>"
      ],
      "text/plain": [
       "   Year                         ZIP code        Age Group  Number of Visits  \\\n",
       "0  2015   90004\\n(34.07646, -118.309453)  Children (0-17)             117.0   \n",
       "1  2015  90011\\n(34.007055, -118.258872)  Children (0-17)             381.0   \n",
       "2  2015  90002\\n(33.949079, -118.247877)  Children (0-17)             227.0   \n",
       "3  2013   90004\\n(34.07646, -118.309453)  Children (0-17)             169.0   \n",
       "4  2014  90012\\n(34.064406, -118.239532)  Children (0-17)              22.0   \n",
       "\n",
       "   Age-adjusted rate  County Fips code       County  \n",
       "0               91.7              6037  LOS ANGELES  \n",
       "1              102.8              6037  LOS ANGELES  \n",
       "2              123.8              6037  LOS ANGELES  \n",
       "3              129.4              6037  LOS ANGELES  \n",
       "4               69.1              6037  LOS ANGELES  "
      ]
     },
     "execution_count": 10,
     "metadata": {},
     "output_type": "execute_result"
    }
   ],
   "source": [
    "asthma_data = pd.read_csv('asthma-emergency-department-visit-rates-by-zip-code.csv')\n",
    "asthma_data.head()"
   ]
  },
  {
   "cell_type": "markdown",
   "metadata": {
    "slideshow": {
     "slide_type": "fragment"
    }
   },
   "source": [
    "### Look at those zip codes!"
   ]
  },
  {
   "cell_type": "markdown",
   "metadata": {
    "slideshow": {
     "slide_type": "slide"
    }
   },
   "source": [
    "# Clean Zip Code\n",
    "* We don't need the latitude and longitude\n",
    "* Create two variables by splitting the zip code variable: \n",
    "    * index the data frame to the zip code variable\n",
    "    * split it in two: https://pandas.pydata.org/pandas-docs/stable/generated/pandas.Series.str.split.html\n",
    "    * assign it to another two variables\n",
    "* Remember: can't run this cell twice without starting over"
   ]
  },
  {
   "cell_type": "code",
   "execution_count": 12,
   "metadata": {
    "slideshow": {
     "slide_type": "fragment"
    }
   },
   "outputs": [
    {
     "data": {
      "text/html": [
       "<div>\n",
       "<style>\n",
       "    .dataframe thead tr:only-child th {\n",
       "        text-align: right;\n",
       "    }\n",
       "\n",
       "    .dataframe thead th {\n",
       "        text-align: left;\n",
       "    }\n",
       "\n",
       "    .dataframe tbody tr th {\n",
       "        vertical-align: top;\n",
       "    }\n",
       "</style>\n",
       "<table border=\"1\" class=\"dataframe\">\n",
       "  <thead>\n",
       "    <tr style=\"text-align: right;\">\n",
       "      <th></th>\n",
       "      <th>Year</th>\n",
       "      <th>Age Group</th>\n",
       "      <th>Number of Visits</th>\n",
       "      <th>Age-adjusted rate</th>\n",
       "      <th>County Fips code</th>\n",
       "      <th>County</th>\n",
       "      <th>zip</th>\n",
       "      <th>coordinates</th>\n",
       "    </tr>\n",
       "  </thead>\n",
       "  <tbody>\n",
       "    <tr>\n",
       "      <th>0</th>\n",
       "      <td>2015</td>\n",
       "      <td>Children (0-17)</td>\n",
       "      <td>117.0</td>\n",
       "      <td>91.7</td>\n",
       "      <td>6037</td>\n",
       "      <td>LOS ANGELES</td>\n",
       "      <td>90004</td>\n",
       "      <td>(34.07646, -118.309453)</td>\n",
       "    </tr>\n",
       "    <tr>\n",
       "      <th>1</th>\n",
       "      <td>2015</td>\n",
       "      <td>Children (0-17)</td>\n",
       "      <td>381.0</td>\n",
       "      <td>102.8</td>\n",
       "      <td>6037</td>\n",
       "      <td>LOS ANGELES</td>\n",
       "      <td>90011</td>\n",
       "      <td>(34.007055, -118.258872)</td>\n",
       "    </tr>\n",
       "  </tbody>\n",
       "</table>\n",
       "</div>"
      ],
      "text/plain": [
       "   Year        Age Group  Number of Visits  Age-adjusted rate  \\\n",
       "0  2015  Children (0-17)             117.0               91.7   \n",
       "1  2015  Children (0-17)             381.0              102.8   \n",
       "\n",
       "   County Fips code       County    zip               coordinates  \n",
       "0              6037  LOS ANGELES  90004   (34.07646, -118.309453)  \n",
       "1              6037  LOS ANGELES  90011  (34.007055, -118.258872)  "
      ]
     },
     "execution_count": 12,
     "metadata": {},
     "output_type": "execute_result"
    }
   ],
   "source": [
    "asthma_data[['zip','coordinates']] = asthma_data.loc[:,'ZIP code'].str.split(\n",
    "                                                        pat='\\n',expand=True)\n",
    "asthma_data.drop('ZIP code', axis=1,inplace=True)\n",
    "asthma_data.head(2)"
   ]
  },
  {
   "cell_type": "markdown",
   "metadata": {
    "slideshow": {
     "slide_type": "slide"
    }
   },
   "source": [
    "# Rearrange The Data: Group By\n",
    "* Make child and adult separate columns rather than rows. \n",
    "* Must specify how to aggregate the columns <br>\n",
    "https://pandas.pydata.org/pandas-docs/stable/generated/pandas.DataFrame.groupby.html\n"
   ]
  },
  {
   "cell_type": "code",
   "execution_count": 5,
   "metadata": {
    "slideshow": {
     "slide_type": "fragment"
    }
   },
   "outputs": [
    {
     "data": {
      "text/html": [
       "<div>\n",
       "<style>\n",
       "    .dataframe thead tr:only-child th {\n",
       "        text-align: right;\n",
       "    }\n",
       "\n",
       "    .dataframe thead th {\n",
       "        text-align: left;\n",
       "    }\n",
       "\n",
       "    .dataframe tbody tr th {\n",
       "        vertical-align: top;\n",
       "    }\n",
       "</style>\n",
       "<table border=\"1\" class=\"dataframe\">\n",
       "  <thead>\n",
       "    <tr style=\"text-align: right;\">\n",
       "      <th></th>\n",
       "      <th></th>\n",
       "      <th>Number of Visits</th>\n",
       "      <th>Age-adjusted rate</th>\n",
       "      <th>County Fips code</th>\n",
       "    </tr>\n",
       "    <tr>\n",
       "      <th>Year</th>\n",
       "      <th>zip</th>\n",
       "      <th></th>\n",
       "      <th></th>\n",
       "      <th></th>\n",
       "    </tr>\n",
       "  </thead>\n",
       "  <tbody>\n",
       "    <tr>\n",
       "      <th rowspan=\"4\" valign=\"top\">2009</th>\n",
       "      <th>90001</th>\n",
       "      <td>818.0</td>\n",
       "      <td>226.074245</td>\n",
       "      <td>18111</td>\n",
       "    </tr>\n",
       "    <tr>\n",
       "      <th>90002</th>\n",
       "      <td>836.0</td>\n",
       "      <td>265.349315</td>\n",
       "      <td>18111</td>\n",
       "    </tr>\n",
       "    <tr>\n",
       "      <th>90003</th>\n",
       "      <td>1542.0</td>\n",
       "      <td>369.202131</td>\n",
       "      <td>18111</td>\n",
       "    </tr>\n",
       "    <tr>\n",
       "      <th>90004</th>\n",
       "      <td>580.0</td>\n",
       "      <td>145.538276</td>\n",
       "      <td>18111</td>\n",
       "    </tr>\n",
       "  </tbody>\n",
       "</table>\n",
       "</div>"
      ],
      "text/plain": [
       "            Number of Visits  Age-adjusted rate  County Fips code\n",
       "Year zip                                                         \n",
       "2009 90001             818.0         226.074245             18111\n",
       "     90002             836.0         265.349315             18111\n",
       "     90003            1542.0         369.202131             18111\n",
       "     90004             580.0         145.538276             18111"
      ]
     },
     "execution_count": 5,
     "metadata": {},
     "output_type": "execute_result"
    }
   ],
   "source": [
    "asthma_grouped = asthma_data.groupby(by=['Year','zip']).sum()\n",
    "asthma_grouped.head(4)"
   ]
  },
  {
   "cell_type": "markdown",
   "metadata": {
    "slideshow": {
     "slide_type": "fragment"
    }
   },
   "source": [
    "### Lost Columns!  Fips summed!"
   ]
  },
  {
   "cell_type": "markdown",
   "metadata": {
    "slideshow": {
     "slide_type": "slide"
    }
   },
   "source": [
    "# Group by: Cleaning Up\n",
    " * Lost columns you can't sum\n",
    " * took sum of fips\n",
    " * Must add these back in\n",
    " * Works because temp table has same index"
   ]
  },
  {
   "cell_type": "code",
   "execution_count": 43,
   "metadata": {
    "slideshow": {
     "slide_type": "fragment"
    }
   },
   "outputs": [
    {
     "data": {
      "text/html": [
       "<div>\n",
       "<style>\n",
       "    .dataframe thead tr:only-child th {\n",
       "        text-align: right;\n",
       "    }\n",
       "\n",
       "    .dataframe thead th {\n",
       "        text-align: left;\n",
       "    }\n",
       "\n",
       "    .dataframe tbody tr th {\n",
       "        vertical-align: top;\n",
       "    }\n",
       "</style>\n",
       "<table border=\"1\" class=\"dataframe\">\n",
       "  <thead>\n",
       "    <tr style=\"text-align: right;\">\n",
       "      <th></th>\n",
       "      <th></th>\n",
       "      <th>Number of Visits</th>\n",
       "      <th>Age-adjusted rate</th>\n",
       "      <th>fips</th>\n",
       "      <th>county</th>\n",
       "      <th>coordinates</th>\n",
       "    </tr>\n",
       "    <tr>\n",
       "      <th>Year</th>\n",
       "      <th>zip</th>\n",
       "      <th></th>\n",
       "      <th></th>\n",
       "      <th></th>\n",
       "      <th></th>\n",
       "      <th></th>\n",
       "    </tr>\n",
       "  </thead>\n",
       "  <tbody>\n",
       "    <tr>\n",
       "      <th rowspan=\"2\" valign=\"top\">2009</th>\n",
       "      <th>90001</th>\n",
       "      <td>409.0</td>\n",
       "      <td>226.074245</td>\n",
       "      <td>6037</td>\n",
       "      <td>LOS ANGELES</td>\n",
       "      <td>(33.973252, -118.249154)</td>\n",
       "    </tr>\n",
       "    <tr>\n",
       "      <th>90002</th>\n",
       "      <td>418.0</td>\n",
       "      <td>265.349315</td>\n",
       "      <td>6037</td>\n",
       "      <td>LOS ANGELES</td>\n",
       "      <td>(33.949079, -118.247877)</td>\n",
       "    </tr>\n",
       "  </tbody>\n",
       "</table>\n",
       "</div>"
      ],
      "text/plain": [
       "            Number of Visits  Age-adjusted rate  fips       county  \\\n",
       "Year zip                                                             \n",
       "2009 90001             409.0         226.074245  6037  LOS ANGELES   \n",
       "     90002             418.0         265.349315  6037  LOS ANGELES   \n",
       "\n",
       "                         coordinates  \n",
       "Year zip                              \n",
       "2009 90001  (33.973252, -118.249154)  \n",
       "     90002  (33.949079, -118.247877)  "
      ]
     },
     "execution_count": 43,
     "metadata": {},
     "output_type": "execute_result"
    }
   ],
   "source": [
    "asthma_grouped.drop('County Fips code',axis=1,inplace=True)\n",
    "temp_grp = asthma_data.groupby(by=['Year','zip']).first()\n",
    "asthma_grouped[['fips','county','coordinates']]=temp_grp.loc[:,['County Fips code',\n",
    "                                                                'County',\n",
    "                                                                'coordinates']]\n",
    "asthma_grouped.loc[:,'Number of Visits']=asthma_grouped.loc[:,'Number of Visits']/2\n",
    "asthma_grouped.head(2)"
   ]
  },
  {
   "cell_type": "markdown",
   "metadata": {
    "slideshow": {
     "slide_type": "slide"
    }
   },
   "source": [
    "# Aside on Copying\n",
    "* Multiple variables can point to the same data in Python. Saves memory\n",
    "* If you set one variable equal to another, then change the first variable, the second changes.\n",
    "* Causes warnings in Pandas all the time. \n",
    "* Solution: \n",
    " * Use proper slicing-- .loc[] --for the right hand side\n",
    " * Use copy\n"
   ]
  },
  {
   "cell_type": "code",
   "execution_count": 60,
   "metadata": {
    "slideshow": {
     "slide_type": "fragment"
    }
   },
   "outputs": [
    {
     "name": "stdout",
     "output_type": "stream",
     "text": [
      "[5, 6]\n"
     ]
    }
   ],
   "source": [
    "A = [5]\n",
    "B = A\n",
    "A.append(6)\n",
    "print(B)"
   ]
  },
  {
   "cell_type": "code",
   "execution_count": 61,
   "metadata": {
    "slideshow": {
     "slide_type": "fragment"
    }
   },
   "outputs": [
    {
     "name": "stdout",
     "output_type": "stream",
     "text": [
      "[5]\n"
     ]
    }
   ],
   "source": [
    "import copy\n",
    "A = [5]\n",
    "B = A.copy()\n",
    "A.append(6)\n",
    "print(B)"
   ]
  },
  {
   "cell_type": "code",
   "execution_count": 62,
   "metadata": {
    "collapsed": true,
    "slideshow": {
     "slide_type": "fragment"
    }
   },
   "outputs": [],
   "source": [
    "asthma_grouped[['fips','county','coordinates']]=temp_grp.loc[:,['County Fips code',\n",
    "                                                                'County',\n",
    "                                                                'coordinates']].copy()"
   ]
  },
  {
   "cell_type": "markdown",
   "metadata": {
    "slideshow": {
     "slide_type": "slide"
    }
   },
   "source": [
    "# Rearrange The Data: Pivot\n",
    "* Use pivot and melt to to move from row identifiers to column identifiers and back <br>\n",
    "https://pandas.pydata.org/pandas-docs/stable/reshaping.html#reshaping-by-melt\n",
    "* Tell computer what to do with every cell:\n",
    " * Index: Stays the same\n",
    " * Columns: The column containing the new column labels\n",
    " * Values: The column containing values to insert\n",
    "<img src='pivot.png'>"
   ]
  },
  {
   "cell_type": "markdown",
   "metadata": {
    "slideshow": {
     "slide_type": "slide"
    }
   },
   "source": [
    "# Rearrange The Data: Pivot\n",
    "* Tell computer what to do with every cell:\n",
    " * Index: Stays the same\n",
    " * Columns: The column containing the new column labels\n",
    " * Values: The column containing values to insert\n"
   ]
  },
  {
   "cell_type": "code",
   "execution_count": 48,
   "metadata": {
    "slideshow": {
     "slide_type": "fragment"
    }
   },
   "outputs": [
    {
     "data": {
      "text/html": [
       "<div>\n",
       "<style>\n",
       "    .dataframe thead tr:only-child th {\n",
       "        text-align: right;\n",
       "    }\n",
       "\n",
       "    .dataframe thead th {\n",
       "        text-align: left;\n",
       "    }\n",
       "\n",
       "    .dataframe tbody tr th {\n",
       "        vertical-align: top;\n",
       "    }\n",
       "</style>\n",
       "<table border=\"1\" class=\"dataframe\">\n",
       "  <thead>\n",
       "    <tr style=\"text-align: right;\">\n",
       "      <th>Age Group</th>\n",
       "      <th>Year</th>\n",
       "      <th>zip</th>\n",
       "      <th>County</th>\n",
       "      <th>coordinates</th>\n",
       "      <th>County Fips code</th>\n",
       "      <th>Adults (18+)</th>\n",
       "      <th>All Ages</th>\n",
       "      <th>Children (0-17)</th>\n",
       "    </tr>\n",
       "  </thead>\n",
       "  <tbody>\n",
       "    <tr>\n",
       "      <th>0</th>\n",
       "      <td>2009</td>\n",
       "      <td>90001</td>\n",
       "      <td>LOS ANGELES</td>\n",
       "      <td>(33.973252, -118.249154)</td>\n",
       "      <td>6037</td>\n",
       "      <td>206.0</td>\n",
       "      <td>409.0</td>\n",
       "      <td>203.0</td>\n",
       "    </tr>\n",
       "    <tr>\n",
       "      <th>1</th>\n",
       "      <td>2009</td>\n",
       "      <td>90002</td>\n",
       "      <td>LOS ANGELES</td>\n",
       "      <td>(33.949079, -118.247877)</td>\n",
       "      <td>6037</td>\n",
       "      <td>204.0</td>\n",
       "      <td>418.0</td>\n",
       "      <td>214.0</td>\n",
       "    </tr>\n",
       "  </tbody>\n",
       "</table>\n",
       "</div>"
      ],
      "text/plain": [
       "Age Group  Year    zip       County               coordinates  \\\n",
       "0          2009  90001  LOS ANGELES  (33.973252, -118.249154)   \n",
       "1          2009  90002  LOS ANGELES  (33.949079, -118.247877)   \n",
       "\n",
       "Age Group  County Fips code  Adults (18+)  All Ages  Children (0-17)  \n",
       "0                      6037         206.0     409.0            203.0  \n",
       "1                      6037         204.0     418.0            214.0  "
      ]
     },
     "execution_count": 48,
     "metadata": {},
     "output_type": "execute_result"
    }
   ],
   "source": [
    "asthma_unstacked = asthma_data.pivot_table(index = ['Year',\n",
    "                                                    'zip',\n",
    "                                                    'County',\n",
    "                                                    'coordinates',\n",
    "                                                    'County Fips code'], \n",
    "                                           columns = 'Age Group', \n",
    "                                           values = 'Number of Visits')\n",
    "asthma_unstacked.reset_index(drop=False,inplace=True)\n",
    "asthma_unstacked.head(2)"
   ]
  },
  {
   "cell_type": "markdown",
   "metadata": {
    "slideshow": {
     "slide_type": "slide"
    }
   },
   "source": [
    "# Rename Columns, Subset Data"
   ]
  },
  {
   "cell_type": "code",
   "execution_count": 49,
   "metadata": {
    "slideshow": {
     "slide_type": "fragment"
    }
   },
   "outputs": [
    {
     "data": {
      "text/html": [
       "<div>\n",
       "<style>\n",
       "    .dataframe thead tr:only-child th {\n",
       "        text-align: right;\n",
       "    }\n",
       "\n",
       "    .dataframe thead th {\n",
       "        text-align: left;\n",
       "    }\n",
       "\n",
       "    .dataframe tbody tr th {\n",
       "        vertical-align: top;\n",
       "    }\n",
       "</style>\n",
       "<table border=\"1\" class=\"dataframe\">\n",
       "  <thead>\n",
       "    <tr style=\"text-align: right;\">\n",
       "      <th>Age Group</th>\n",
       "      <th>Year</th>\n",
       "      <th>Zip</th>\n",
       "      <th>County</th>\n",
       "      <th>Coordinates</th>\n",
       "      <th>Fips</th>\n",
       "      <th>Adults</th>\n",
       "      <th>Incidents</th>\n",
       "      <th>Children</th>\n",
       "    </tr>\n",
       "  </thead>\n",
       "  <tbody>\n",
       "    <tr>\n",
       "      <th>4693</th>\n",
       "      <td>2015</td>\n",
       "      <td>90001</td>\n",
       "      <td>LOS ANGELES</td>\n",
       "      <td>(33.973252, -118.249154)</td>\n",
       "      <td>6037</td>\n",
       "      <td>229.0</td>\n",
       "      <td>441.0</td>\n",
       "      <td>212.0</td>\n",
       "    </tr>\n",
       "    <tr>\n",
       "      <th>4694</th>\n",
       "      <td>2015</td>\n",
       "      <td>90002</td>\n",
       "      <td>LOS ANGELES</td>\n",
       "      <td>(33.949079, -118.247877)</td>\n",
       "      <td>6037</td>\n",
       "      <td>249.0</td>\n",
       "      <td>476.0</td>\n",
       "      <td>227.0</td>\n",
       "    </tr>\n",
       "  </tbody>\n",
       "</table>\n",
       "</div>"
      ],
      "text/plain": [
       "Age Group  Year    Zip       County               Coordinates  Fips  Adults  \\\n",
       "4693       2015  90001  LOS ANGELES  (33.973252, -118.249154)  6037   229.0   \n",
       "4694       2015  90002  LOS ANGELES  (33.949079, -118.247877)  6037   249.0   \n",
       "\n",
       "Age Group  Incidents  Children  \n",
       "4693           441.0     212.0  \n",
       "4694           476.0     227.0  "
      ]
     },
     "execution_count": 49,
     "metadata": {},
     "output_type": "execute_result"
    }
   ],
   "source": [
    "asthma_unstacked.rename(columns={\n",
    "    'zip':'Zip',\n",
    "    'coordinates':'Coordinates',\n",
    "    'County Fips code':'Fips',\n",
    "    'Adults (18+)':'Adults',\n",
    "    'All Ages':'Incidents',\n",
    "    'Children (0-17)': 'Children'\n",
    "    },\n",
    "    inplace=True)\n",
    "asthma_2015 = asthma_unstacked.loc[asthma_unstacked.Year==2015,:]\n",
    "asthma_2015.head(2)"
   ]
  },
  {
   "cell_type": "markdown",
   "metadata": {
    "slideshow": {
     "slide_type": "slide"
    }
   },
   "source": [
    "# Save Your Data\n",
    "* No saving your workspace like in R or STATA\n",
    "* Save specific variables, models, or results using Pickle\n",
    " * wb: write binary. Tells computer to save the file\n",
    " * rb: read binary. Tells computer to read the file\n",
    " * If you mix them up, you may write over your data and lose it\n",
    "* Write your data to a text file to read later"
   ]
  },
  {
   "cell_type": "code",
   "execution_count": 287,
   "metadata": {
    "collapsed": true,
    "slideshow": {
     "slide_type": "fragment"
    }
   },
   "outputs": [],
   "source": [
    "pickle.dump(asthma_unstacked,open('asthma_unstacked.p','wb'))\n",
    "asthma_unstacked.to_csv('asthma_unstacked.csv')"
   ]
  },
  {
   "cell_type": "code",
   "execution_count": 288,
   "metadata": {
    "collapsed": true,
    "slideshow": {
     "slide_type": "fragment"
    }
   },
   "outputs": [],
   "source": [
    "asthma_unstacked = pickle.load(open('asthma_unstacked.p','rb'))"
   ]
  },
  {
   "cell_type": "markdown",
   "metadata": {
    "slideshow": {
     "slide_type": "slide"
    }
   },
   "source": [
    "# Scraping\n"
   ]
  },
  {
   "cell_type": "markdown",
   "metadata": {
    "slideshow": {
     "slide_type": "slide"
    }
   },
   "source": [
    "# How the Internet Works\n",
    "\n",
    "* Code is stored on servers\n",
    "* Web addresses point to the location of that code \n",
    "\n",
    "\n",
    "1. Going to an address or clicking a button sends requests to the server for data, \n",
    "2. The server returns the requested content\n",
    "3. Your web browser interprets the code to render the web page \n",
    "\n",
    "<img src='Internet.png'>"
   ]
  },
  {
   "cell_type": "markdown",
   "metadata": {
    "slideshow": {
     "slide_type": "slide"
    }
   },
   "source": [
    "# Scraping: \n",
    "* Collect the website code by emulating the process:\n",
    "  * Can haz cheezburger?\n",
    "  <img src='burger.png'>\n",
    "* Extract the useful information from the scraped code:\n",
    "  * Where's the beef? \n",
    "  <img src='beef.png'>"
   ]
  },
  {
   "cell_type": "markdown",
   "metadata": {
    "slideshow": {
     "slide_type": "slide"
    }
   },
   "source": [
    "# API\n",
    "### Application Programming Interface \n",
    "* The set of rules that govern communication between two pieces of code\n",
    "* Code requires clear expected inputs and outputs\n",
    "* APIs define required inputs to get the outputs in a format you can expect. \n",
    "* Easier than scraping a website because gives you exactly what you ask for\n",
    "\n",
    "<img src = \"beef_direct.png\">"
   ]
  },
  {
   "cell_type": "markdown",
   "metadata": {
    "slideshow": {
     "slide_type": "slide"
    }
   },
   "source": [
    "# API Keys\n",
    "## APIs often require identification\n",
    "* Go to https://docs.airnowapi.org \n",
    "* Register and get a key\n",
    "* Log in to the site\n",
    "* Select web services\n",
    "\n",
    "## DO NOT SHARE YOUR KEY\n",
    "* It will get stolen and used for malicious activity"
   ]
  },
  {
   "cell_type": "markdown",
   "metadata": {
    "slideshow": {
     "slide_type": "slide"
    }
   },
   "source": [
    "# Requests to a Server\n",
    "\n",
    "\n",
    "<div style=\"float: left;width:50%\">\n",
    "<h3> GET</h3>\n",
    "<ul><li>Requests data from the server</li>\n",
    "<li> Encoded into the URL</li></ul>\n",
    "<img src = 'get.png'>\n",
    "</div>\n",
    "<div style=\"float: left;width:50%\">\n",
    "<h3>POST</h3>\n",
    "<ul><li>Submits data to be processed by the server</li>\n",
    "<li>For example, filter the data</li>\n",
    "<li>Can attach additional data not directly in the url</li></ul>\n",
    "<img src = 'post.png'>\n",
    "</div>"
   ]
  },
  {
   "cell_type": "markdown",
   "metadata": {
    "slideshow": {
     "slide_type": "slide"
    }
   },
   "source": [
    "# Using an API\n",
    "<img src = 'api.png'>"
   ]
  },
  {
   "cell_type": "markdown",
   "metadata": {
    "slideshow": {
     "slide_type": "slide"
    }
   },
   "source": [
    "# Requests encoded in the URL\n",
    "### Parsing a URL\n",
    "\n",
    "### <font color=\"blue\">http://www.airnowapi.org/aq/observation/zipCode/historical/</font><font color=\"red\">?</font><br><font color=\"green\">format</font>=<font color=\"purple\">application/json</font><font color=\"orange\">&<br></font><font color=\"green\">zipCode</font>=<font color=\"purple\">20007</font><font color=\"orange\">&</font><br><font color=\"green\">date</font>=<font color=\"purple\">2017-09-05T00-0000</font><font color=\"orange\">&</font><br><font color=\"green\">distance</font>=<font color=\"purple\">25</font><font color=\"orange\">&</font><br><font color=\"green\">API_KEY</font>=<font color=\"purple\">D9AA91E7-070D-4221-867CC-XXXXXXXXXXX</font>\n",
    "\n",
    "* The base URL or endpoint is:<br>\n",
    "<font color=\"blue\">http://www.airnowapi.org/aq/observation/zipCode/historical/</font>\n",
    "\n",
    "* <font color=\"red\">?</font> tells us that this is a query. \n",
    "* <font color=\"orange\">&</font> separates name, value pairs within the request.\n",
    "\n",
    "* Five <font color=\"green\"><strong>name</strong></font>, <font color=\"purple\"><strong>value</strong></font> pairs POSTED \n",
    " * format, zipCode, date, distance, API_KEY"
   ]
  },
  {
   "cell_type": "markdown",
   "metadata": {
    "slideshow": {
     "slide_type": "slide"
    }
   },
   "source": [
    "# Request from Python\n",
    "### prepare the url\n",
    "* List of attributes\n",
    "* Join them with \"&\" to form a string"
   ]
  },
  {
   "cell_type": "code",
   "execution_count": 19,
   "metadata": {
    "slideshow": {
     "slide_type": "fragment"
    }
   },
   "outputs": [
    {
     "name": "stdout",
     "output_type": "stream",
     "text": [
      "format=application/json&zipCode=20007&date=2017-09-05T00-0000&distance=25&API_KEY=39DC3727-09BD-48C4-BBD8-XXXXXXXXXXXX\n"
     ]
    }
   ],
   "source": [
    "base_url = \"http://www.airnowapi.org/aq/observation/zipCode/historical/\"\n",
    "attributes = [\"format=application/json\",\n",
    "            \"zipCode=20007\",\n",
    "            \"date=2017-09-05T00-0000\",\n",
    "            \"distance=25\",\n",
    "            \"API_KEY=39DC3727-09BD-48C4-BBD8-XXXXXXXXXXXX\"\n",
    "             ]\n",
    "post_url = '&'.join(attributes)\n",
    "print(post_url)"
   ]
  },
  {
   "cell_type": "markdown",
   "metadata": {
    "slideshow": {
     "slide_type": "slide"
    }
   },
   "source": [
    "# Requests from Python\n",
    "* Use requests package\n",
    "* Requested json format\n",
    "    * Returns list of dictionaries\n",
    "    * Look at the returned keys"
   ]
  },
  {
   "cell_type": "code",
   "execution_count": 17,
   "metadata": {
    "slideshow": {
     "slide_type": "fragment"
    }
   },
   "outputs": [
    {
     "name": "stdout",
     "output_type": "stream",
     "text": [
      "{'DateObserved': '2017-09-05 ', 'HourObserved': 0, 'LocalTimeZone': 'EST', 'ReportingArea': 'Metropolitan Washington', 'StateCode': 'DC', 'Latitude': 38.919, 'Longitude': -77.013, 'ParameterName': 'OZONE', 'AQI': 47, 'Category': {'Number': 1, 'Name': 'Good'}}\n"
     ]
    }
   ],
   "source": [
    "ingredients=requests.get(base_url, post_url)\n",
    "ingredients = ingredients.json()\n",
    "print(ingredients[0])"
   ]
  },
  {
   "cell_type": "markdown",
   "metadata": {
    "slideshow": {
     "slide_type": "slide"
    }
   },
   "source": [
    "# View Returned Data:\n",
    "* Each list gives a different parameter for zip code and date we searched"
   ]
  },
  {
   "cell_type": "code",
   "execution_count": 18,
   "metadata": {
    "slideshow": {
     "slide_type": "fragment"
    }
   },
   "outputs": [
    {
     "name": "stdout",
     "output_type": "stream",
     "text": [
      "For Location  Metropolitan Washington  the AQI for  OZONE is  47\n",
      "For Location  Metropolitan Washington  the AQI for  PM2.5 is  61\n",
      "For Location  Metropolitan Washington  the AQI for  PM10 is  13\n"
     ]
    }
   ],
   "source": [
    "for item in ingredients:\n",
    "           AQIType = item['ParameterName']\n",
    "           City=item['ReportingArea']\n",
    "           AQIValue=item['AQI']\n",
    "           print(\"For Location \", City, \" the AQI for \", AQIType, \"is \", AQIValue)"
   ]
  },
  {
   "cell_type": "markdown",
   "metadata": {
    "slideshow": {
     "slide_type": "slide"
    }
   },
   "source": [
    "# Ethics\n",
    "* Check the websites terms of use\n",
    "* Don't hit too hard:\n",
    "    * Insert pauses in your code to act more like a human\n",
    "    * Scraping can look like an attack\n",
    "    * Server will block you without pauses\n",
    "* APIs often have rate limits\n",
    "* Use the time package to pause for a second between hits"
   ]
  },
  {
   "cell_type": "code",
   "execution_count": null,
   "metadata": {
    "collapsed": true,
    "slideshow": {
     "slide_type": "fragment"
    }
   },
   "outputs": [],
   "source": [
    "time.sleep(1)"
   ]
  },
  {
   "cell_type": "markdown",
   "metadata": {
    "slideshow": {
     "slide_type": "slide"
    }
   },
   "source": [
    "# Collect Our Data\n",
    "### Python helps us automate repetitive tasks. Don't download each datapoint you want separately\n",
    "* Get a list of zip codes we want\n",
    " * take a subset to demo, so it doesn't take too long and so we don't all hit too hard from the same ip\n",
    "* Request the data for those zipcodes on a day in 2015 (you pick, fire season July-Oct)\n",
    " * Be sure to sleep between requests\n",
    "* Store that data as you go into a dictionary\n",
    " * Key: zip code\n",
    " * Value: Dictionary of the air quality parameters and their value"
   ]
  },
  {
   "cell_type": "code",
   "execution_count": null,
   "metadata": {
    "collapsed": true,
    "slideshow": {
     "slide_type": "slide"
    }
   },
   "outputs": [],
   "source": [
    "base_url = \"http://www.airnowapi.org/aq/observation/zipCode/historical/\"\n",
    "zips = asthma_2015.Zip.unique()\n",
    "zips = zips[:450]\n",
    "date =\"date=2015-09-01T00-0000\"\n",
    "api_key = \"API_KEY=39DC3727-09BD-48C4-BBD8-XXXXXXXXXXXX\"\n",
    "return_format = \"format=application/json\"\n",
    "zip_str = \"zipCode=\"\n",
    "post_url = \"&\".join([date,api_key,return_format,zip_str])\n",
    "data_dict = {}\n",
    "for zipcode in zips:\n",
    "    time.sleep(1)\n",
    "    zip_post = post_url + str(zipcode)\n",
    "    ingredients = requests.get(base_url, zip_post)\n",
    "    ingredients = ingredients.json()\n",
    "    zip_data = {}\n",
    "    for data_point in ingredients:\n",
    "        AQIType = data_point['ParameterName']\n",
    "        AQIVal = data_point['AQI']\n",
    "        zip_data[AQIType] = AQIVal\n",
    "    data_dict[zipcode]= zip_data"
   ]
  },
  {
   "cell_type": "markdown",
   "metadata": {
    "slideshow": {
     "slide_type": "slide"
    }
   },
   "source": [
    "# Scraping: Parsing HTML\n",
    "* What about when you don't have an API that returns dictionaries?\n",
    "* HTML is a markup language that displays data (text, images, etc)\n",
    "* Puts content within nested tags to tell your browser how to display it\n",
    "\n",
    "***\n",
    "\n",
    "### &lt;Section_tag>\n",
    "### &emsp; &lt;tag> Content &lt;/tag>\n",
    "### &emsp; &lt;tag> Content &lt;/tag>\n",
    "### &lt; /Section_tag>\n",
    "### &lt;Section_tag>\n",
    "### &emsp; &lt;tag> <font color=\"red\">Beef</font> &lt;/tag>\n",
    "### &lt; /Section_tag>"
   ]
  },
  {
   "cell_type": "markdown",
   "metadata": {
    "slideshow": {
     "slide_type": "slide"
    }
   },
   "source": [
    "# Find the tags that identify the content you want:\n",
    "* First paragraph of wikipedia article: \n",
    "https://en.wikipedia.org/wiki/Data_science\n",
    "* Inspect the webpage: \n",
    " * Windows: ctrl+shift+i\n",
    " * Mac: ctrl+alt+i\n",
    " \n",
    "<img src = \"wikipedia_scrape.png\">\n"
   ]
  },
  {
   "cell_type": "markdown",
   "metadata": {
    "slideshow": {
     "slide_type": "slide"
    }
   },
   "source": [
    "# Parsing HTML with Beautiful Soup\n",
    "### Beautiful Soup takes the raw html and parses the tags so you can search through them. \n",
    "* text attribute returns raw html text from requests\n",
    "* Ignore the warning, default parser is fine\n",
    "* We know it's the first paragraph tag in the body tag, so: \n",
    " * Can find first tag of a type using <strong>.</strong>\n",
    "* But it's not usually that easy..."
   ]
  },
  {
   "cell_type": "code",
   "execution_count": 21,
   "metadata": {
    "slideshow": {
     "slide_type": "fragment"
    }
   },
   "outputs": [
    {
     "name": "stdout",
     "output_type": "stream",
     "text": [
      "<p><b>Data science</b>, also known as <b>data-driven science</b>, is an interdisciplinary field of scientific methods, processes, and systems to extract <a href=\"/wiki/Knowledge\" title=\"Knowledge\">knowledge</a> or insights from <a href=\"/wiki/Data\" title=\"Data\">data</a> in various forms, either structured or unstructured,<sup class=\"reference\" id=\"cite_ref-:0_1-0\"><a href=\"#cite_note-:0-1\">[1]</a></sup><sup class=\"reference\" id=\"cite_ref-2\"><a href=\"#cite_note-2\">[2]</a></sup> similar to <a href=\"/wiki/Data_mining\" title=\"Data mining\">data mining</a>.</p>\n"
     ]
    }
   ],
   "source": [
    "ingredients = requests.get(\"https://en.wikipedia.org/wiki/Data_science\")\n",
    "soup = bs(ingredients.text)\n",
    "print(soup.body.p)"
   ]
  },
  {
   "cell_type": "markdown",
   "metadata": {
    "slideshow": {
     "slide_type": "slide"
    }
   },
   "source": [
    "# Use Find Feature to Narrow Your Search\n",
    "* Find the unique div we identified\n",
    " * Remember the underscore: \"class_\"\n",
    "* Find the p tag within the resulting html\n",
    "* Use an index to return just the first paragraph tag\n",
    "* Use the text attribute to ignore all the formatting and link tags\n",
    "* Next: Use a for loop and scrape the first paragraph from a bunch of wikipedia articles\n",
    "* Learn More: http://web.stanford.edu/~zlotnick/TextAsData/Web_Scraping_with_Beautiful_Soup.html"
   ]
  },
  {
   "cell_type": "code",
   "execution_count": 23,
   "metadata": {
    "slideshow": {
     "slide_type": "fragment"
    }
   },
   "outputs": [
    {
     "name": "stdout",
     "output_type": "stream",
     "text": [
      "<p><b>Data science</b>, also known as <b>data-driven science</b>, is an interdisciplinary field of scientific methods, processes, and systems to extract <a href=\"/wiki/Knowledge\" title=\"Knowledge\">knowledge</a> or insights from <a href=\"/wiki/Data\" title=\"Data\">data</a> in various forms, either structured or unstructured,<sup class=\"reference\" id=\"cite_ref-:0_1-0\"><a href=\"#cite_note-:0-1\">[1]</a></sup><sup class=\"reference\" id=\"cite_ref-2\"><a href=\"#cite_note-2\">[2]</a></sup> similar to <a href=\"/wiki/Data_mining\" title=\"Data mining\">data mining</a>.</p>\n",
      "*****************************************\n",
      "Data science, also known as data-driven science, is an interdisciplinary field of scientific methods, processes, and systems to extract knowledge or insights from data in various forms, either structured or unstructured,[1][2] similar to data mining.\n"
     ]
    }
   ],
   "source": [
    "parser_div = soup.find(\"div\", class_=\"mw-parser-output\")\n",
    "wiki_content = parser_div.find_all('p')\n",
    "print(wiki_content[0])\n",
    "print('*****************************************')\n",
    "print(wiki_content[0].text)"
   ]
  },
  {
   "cell_type": "markdown",
   "metadata": {
    "slideshow": {
     "slide_type": "slide"
    }
   },
   "source": [
    "# Back To Our Data\n",
    "* If it's still running, go ahead and stop it by pushing the square at the top of the notebook: \n",
    "<img src=\"interrupt.png\">\n",
    "* Save what you collected, don't want to hit them twice!"
   ]
  },
  {
   "cell_type": "code",
   "execution_count": 306,
   "metadata": {
    "collapsed": true,
    "slideshow": {
     "slide_type": "fragment"
    }
   },
   "outputs": [],
   "source": [
    "pickle.dump(data_dict,open('AQI_data_raw.p','wb'))"
   ]
  },
  {
   "cell_type": "markdown",
   "metadata": {
    "slideshow": {
     "slide_type": "slide"
    }
   },
   "source": [
    "# Subset down to the data we have:\n",
    "* use the isin() method to include only those zip codes we've already collected"
   ]
  },
  {
   "cell_type": "code",
   "execution_count": 307,
   "metadata": {
    "collapsed": true,
    "slideshow": {
     "slide_type": "fragment"
    }
   },
   "outputs": [],
   "source": [
    "collected = list(data_dict.keys())\n",
    "asthma_2015_sub = asthma_2015.loc[asthma_2015.Zip.isin(collected),:]"
   ]
  },
  {
   "cell_type": "markdown",
   "metadata": {
    "slideshow": {
     "slide_type": "slide"
    }
   },
   "source": [
    "# Create a dataframe from the new AQI data"
   ]
  },
  {
   "cell_type": "code",
   "execution_count": 308,
   "metadata": {
    "slideshow": {
     "slide_type": "fragment"
    }
   },
   "outputs": [
    {
     "data": {
      "text/html": [
       "<div>\n",
       "<style>\n",
       "    .dataframe thead tr:only-child th {\n",
       "        text-align: right;\n",
       "    }\n",
       "\n",
       "    .dataframe thead th {\n",
       "        text-align: left;\n",
       "    }\n",
       "\n",
       "    .dataframe tbody tr th {\n",
       "        vertical-align: top;\n",
       "    }\n",
       "</style>\n",
       "<table border=\"1\" class=\"dataframe\">\n",
       "  <thead>\n",
       "    <tr style=\"text-align: right;\">\n",
       "      <th></th>\n",
       "      <th>Zip</th>\n",
       "      <th>OZONE</th>\n",
       "      <th>PM2.5</th>\n",
       "      <th>PM10</th>\n",
       "    </tr>\n",
       "  </thead>\n",
       "  <tbody>\n",
       "    <tr>\n",
       "      <th>0</th>\n",
       "      <td>90001</td>\n",
       "      <td>36.0</td>\n",
       "      <td>NaN</td>\n",
       "      <td>NaN</td>\n",
       "    </tr>\n",
       "    <tr>\n",
       "      <th>1</th>\n",
       "      <td>90002</td>\n",
       "      <td>36.0</td>\n",
       "      <td>NaN</td>\n",
       "      <td>NaN</td>\n",
       "    </tr>\n",
       "    <tr>\n",
       "      <th>2</th>\n",
       "      <td>90003</td>\n",
       "      <td>36.0</td>\n",
       "      <td>NaN</td>\n",
       "      <td>NaN</td>\n",
       "    </tr>\n",
       "    <tr>\n",
       "      <th>3</th>\n",
       "      <td>90004</td>\n",
       "      <td>54.0</td>\n",
       "      <td>NaN</td>\n",
       "      <td>NaN</td>\n",
       "    </tr>\n",
       "    <tr>\n",
       "      <th>4</th>\n",
       "      <td>90005</td>\n",
       "      <td>54.0</td>\n",
       "      <td>NaN</td>\n",
       "      <td>NaN</td>\n",
       "    </tr>\n",
       "  </tbody>\n",
       "</table>\n",
       "</div>"
      ],
      "text/plain": [
       "     Zip  OZONE  PM2.5  PM10\n",
       "0  90001   36.0    NaN   NaN\n",
       "1  90002   36.0    NaN   NaN\n",
       "2  90003   36.0    NaN   NaN\n",
       "3  90004   54.0    NaN   NaN\n",
       "4  90005   54.0    NaN   NaN"
      ]
     },
     "execution_count": 308,
     "metadata": {},
     "output_type": "execute_result"
    }
   ],
   "source": [
    "aqi_data = pd.DataFrame.from_dict(data_dict, orient='index')\n",
    "aqi_data.reset_index(drop=False,inplace=True)\n",
    "aqi_data.rename(columns={'index':'Zip'},inplace=True)\n",
    "aqi_data.head()"
   ]
  },
  {
   "cell_type": "markdown",
   "metadata": {
    "slideshow": {
     "slide_type": "slide"
    }
   },
   "source": [
    "# Combine The Data\n",
    "https://pandas.pydata.org/pandas-docs/stable/generated/pandas.DataFrame.merge.html\n",
    "* Types of merges:\n",
    " * Left: Use only rows from the dataframe you are merging into\n",
    " * Right: use only rows from the dataframe you are inserting, (the one in the parentheses)\n",
    " * Inner: Use only rows that match between both\n",
    " * Outer: Use all rows, even if they only appear in one of the dataframes\n",
    "* On: The variables you want to compare\n",
    " * Specify right_on and left_on if they have different names"
   ]
  },
  {
   "cell_type": "code",
   "execution_count": 309,
   "metadata": {
    "slideshow": {
     "slide_type": "fragment"
    }
   },
   "outputs": [
    {
     "data": {
      "text/html": [
       "<div>\n",
       "<style>\n",
       "    .dataframe thead tr:only-child th {\n",
       "        text-align: right;\n",
       "    }\n",
       "\n",
       "    .dataframe thead th {\n",
       "        text-align: left;\n",
       "    }\n",
       "\n",
       "    .dataframe tbody tr th {\n",
       "        vertical-align: top;\n",
       "    }\n",
       "</style>\n",
       "<table border=\"1\" class=\"dataframe\">\n",
       "  <thead>\n",
       "    <tr style=\"text-align: right;\">\n",
       "      <th></th>\n",
       "      <th>Year</th>\n",
       "      <th>Zip</th>\n",
       "      <th>County</th>\n",
       "      <th>Coordinates</th>\n",
       "      <th>Fips</th>\n",
       "      <th>Adults</th>\n",
       "      <th>Incidents</th>\n",
       "      <th>Children</th>\n",
       "      <th>OZONE</th>\n",
       "      <th>PM2.5</th>\n",
       "      <th>PM10</th>\n",
       "    </tr>\n",
       "  </thead>\n",
       "  <tbody>\n",
       "    <tr>\n",
       "      <th>0</th>\n",
       "      <td>2015</td>\n",
       "      <td>90001</td>\n",
       "      <td>LOS ANGELES</td>\n",
       "      <td>(33.973252, -118.249154)</td>\n",
       "      <td>6037</td>\n",
       "      <td>229.0</td>\n",
       "      <td>441.0</td>\n",
       "      <td>212.0</td>\n",
       "      <td>36.0</td>\n",
       "      <td>NaN</td>\n",
       "      <td>NaN</td>\n",
       "    </tr>\n",
       "    <tr>\n",
       "      <th>1</th>\n",
       "      <td>2015</td>\n",
       "      <td>90002</td>\n",
       "      <td>LOS ANGELES</td>\n",
       "      <td>(33.949079, -118.247877)</td>\n",
       "      <td>6037</td>\n",
       "      <td>249.0</td>\n",
       "      <td>476.0</td>\n",
       "      <td>227.0</td>\n",
       "      <td>36.0</td>\n",
       "      <td>NaN</td>\n",
       "      <td>NaN</td>\n",
       "    </tr>\n",
       "  </tbody>\n",
       "</table>\n",
       "</div>"
      ],
      "text/plain": [
       "   Year    Zip       County               Coordinates  Fips  Adults  \\\n",
       "0  2015  90001  LOS ANGELES  (33.973252, -118.249154)  6037   229.0   \n",
       "1  2015  90002  LOS ANGELES  (33.949079, -118.247877)  6037   249.0   \n",
       "\n",
       "   Incidents  Children  OZONE  PM2.5  PM10  \n",
       "0      441.0     212.0   36.0    NaN   NaN  \n",
       "1      476.0     227.0   36.0    NaN   NaN  "
      ]
     },
     "execution_count": 309,
     "metadata": {},
     "output_type": "execute_result"
    }
   ],
   "source": [
    "asthma_aqi = asthma_2015_sub.merge(aqi_data,how='outer',on='Zip')\n",
    "asthma_aqi.head(2)"
   ]
  },
  {
   "cell_type": "markdown",
   "metadata": {
    "slideshow": {
     "slide_type": "slide"
    }
   },
   "source": [
    "# Look At The Data: Histogram\n",
    "* 20 bins"
   ]
  },
  {
   "cell_type": "code",
   "execution_count": 310,
   "metadata": {
    "slideshow": {
     "slide_type": "fragment"
    }
   },
   "outputs": [
    {
     "data": {
      "text/plain": [
       "<matplotlib.axes._subplots.AxesSubplot at 0x7f6f595cb128>"
      ]
     },
     "execution_count": 310,
     "metadata": {},
     "output_type": "execute_result"
    },
    {
     "data": {
      "image/png": "[encoded data removed]",
      "text/plain": [
       "<matplotlib.figure.Figure at 0x7f6f595a97b8>"
      ]
     },
     "metadata": {},
     "output_type": "display_data"
    }
   ],
   "source": [
    "asthma_aqi.Incidents.plot.hist(20)"
   ]
  },
  {
   "cell_type": "markdown",
   "metadata": {
    "slideshow": {
     "slide_type": "slide"
    }
   },
   "source": [
    "# Look At The Data: Smoothed Distribution"
   ]
  },
  {
   "cell_type": "code",
   "execution_count": 311,
   "metadata": {
    "slideshow": {
     "slide_type": "fragment"
    }
   },
   "outputs": [
    {
     "data": {
      "text/plain": [
       "<matplotlib.axes._subplots.AxesSubplot at 0x7f6f594f8e80>"
      ]
     },
     "execution_count": 311,
     "metadata": {},
     "output_type": "execute_result"
    },
    {
     "data": {
      "image/png": "[encoded data removed]",
      "text/plain": [
       "<matplotlib.figure.Figure at 0x7f6f5969e860>"
      ]
     },
     "metadata": {},
     "output_type": "display_data"
    }
   ],
   "source": [
    "asthma_aqi.loc[:,['Incidents','OZONE']].plot.density()"
   ]
  },
  {
   "cell_type": "markdown",
   "metadata": {
    "slideshow": {
     "slide_type": "slide"
    }
   },
   "source": [
    "# Look at particulates\n",
    "* There is a lot of missingness in 2015\n",
    "* Try other variables, such as comparing children and adults"
   ]
  },
  {
   "cell_type": "code",
   "execution_count": 312,
   "metadata": {
    "slideshow": {
     "slide_type": "fragment"
    }
   },
   "outputs": [
    {
     "data": {
      "text/plain": [
       "<matplotlib.axes._subplots.AxesSubplot at 0x7f6f595d20b8>"
      ]
     },
     "execution_count": 312,
     "metadata": {},
     "output_type": "execute_result"
    },
    {
     "data": {
      "image/png": "[encoded data removed]",
      "text/plain": [
       "<matplotlib.figure.Figure at 0x7f6f5966de80>"
      ]
     },
     "metadata": {},
     "output_type": "display_data"
    }
   ],
   "source": [
    "asthma_aqi.loc[:,['PM2.5','PM10']].plot.hist()"
   ]
  },
  {
   "cell_type": "markdown",
   "metadata": {
    "slideshow": {
     "slide_type": "slide"
    }
   },
   "source": [
    "# Scatter Plot\n",
    "* Try some other combinations\n",
    "* Our data look clustered, but we'll ignore that for now"
   ]
  },
  {
   "cell_type": "code",
   "execution_count": 327,
   "metadata": {
    "slideshow": {
     "slide_type": "fragment"
    }
   },
   "outputs": [
    {
     "data": {
      "text/plain": [
       "<matplotlib.axes._subplots.AxesSubplot at 0x7f6f5940bdd8>"
      ]
     },
     "execution_count": 327,
     "metadata": {},
     "output_type": "execute_result"
    },
    {
     "data": {
      "image/png": "[encoded data removed]",
      "text/plain": [
       "<matplotlib.figure.Figure at 0x7f6f59339a20>"
      ]
     },
     "metadata": {},
     "output_type": "display_data"
    }
   ],
   "source": [
    "asthma_aqi.plot.scatter('OZONE','PM2.5')"
   ]
  },
  {
   "cell_type": "markdown",
   "metadata": {
    "slideshow": {
     "slide_type": "slide"
    }
   },
   "source": [
    "# Run a regression:\n",
    "* Note: statsmodels supports equation format like R <br>\n",
    "http://www.statsmodels.org/dev/example_formulas.html"
   ]
  },
  {
   "cell_type": "code",
   "execution_count": 320,
   "metadata": {
    "slideshow": {
     "slide_type": "fragment"
    }
   },
   "outputs": [
    {
     "name": "stdout",
     "output_type": "stream",
     "text": [
      "                            OLS Regression Results                            \n",
      "==============================================================================\n",
      "Dep. Variable:              Incidents   R-squared:                       0.021\n",
      "Model:                            OLS   Adj. R-squared:                  0.018\n",
      "Method:                 Least Squares   F-statistic:                     5.896\n",
      "Date:                Thu, 15 Feb 2018   Prob (F-statistic):            0.00293\n",
      "Time:                        10:23:19   Log-Likelihood:                -3521.4\n",
      "No. Observations:                 544   AIC:                             7049.\n",
      "Df Residuals:                     541   BIC:                             7062.\n",
      "Df Model:                           2                                         \n",
      "Covariance Type:            nonrobust                                         \n",
      "==============================================================================\n",
      "                 coef    std err          t      P>|t|      [0.025      0.975]\n",
      "------------------------------------------------------------------------------\n",
      "OZONE          0.5115      0.266      1.923      0.055      -0.011       1.034\n",
      "PM2.5          1.6237      0.691      2.348      0.019       0.265       2.982\n",
      "c             70.3427     28.976      2.428      0.016      13.423     127.263\n",
      "==============================================================================\n",
      "Omnibus:                      225.881   Durbin-Watson:                   1.535\n",
      "Prob(Omnibus):                  0.000   Jarque-Bera (JB):              870.231\n",
      "Skew:                           1.921   Prob(JB):                    1.08e-189\n",
      "Kurtosis:                       7.862   Cond. No.                         288.\n",
      "==============================================================================\n",
      "\n",
      "Warnings:\n",
      "[1] Standard Errors assume that the covariance matrix of the errors is correctly specified.\n"
     ]
    }
   ],
   "source": [
    "y =asthma_aqi.loc[:,'Incidents']\n",
    "x =asthma_aqi.loc[:,['OZONE','PM2.5']]\n",
    "x['c'] = 1\n",
    "ols_model1 = sm.OLS(y,x,missing='drop')\n",
    "results = ols_model1.fit()\n",
    "print(results.summary())\n",
    "pickle.dump([results,ols_model1],open('ols_model_results.p','wb'))"
   ]
  },
  {
   "cell_type": "markdown",
   "metadata": {
    "slideshow": {
     "slide_type": "slide"
    }
   },
   "source": [
    "# Clustering Algorithm\n",
    "* Learn more about clustering here: <br>\n",
    "http://scikit-learn.org/stable/modules/clustering.html\n",
    "* Use sklearn, a package for data mining and machine learing\n",
    "* Drop rows with missing values first\n",
    "* Standardize the data so they're all on the same scale"
   ]
  },
  {
   "cell_type": "code",
   "execution_count": 325,
   "metadata": {
    "collapsed": true,
    "slideshow": {
     "slide_type": "fragment"
    }
   },
   "outputs": [],
   "source": [
    "model_df = asthma_aqi.loc[:,['OZONE','PM2.5','Incidents',]]\n",
    "model_df.dropna(axis=0,inplace=True)\n",
    "model_df = (model_df - model_df.mean()) / (model_df.max() - model_df.min())\n",
    "asthma_air_clusters=cluster.KMeans(n_clusters = 3)\n",
    "asthma_air_clusters.fit(model_df)\n",
    "model_df['clusters3']=asthma_air_clusters.labels_\n"
   ]
  },
  {
   "cell_type": "markdown",
   "metadata": {
    "slideshow": {
     "slide_type": "slide"
    }
   },
   "source": [
    "# Look At Clusters\n",
    "* Our data are very closely clustered, OLS was probably not appropriate. "
   ]
  },
  {
   "cell_type": "code",
   "execution_count": 326,
   "metadata": {
    "slideshow": {
     "slide_type": "fragment"
    }
   },
   "outputs": [
    {
     "data": {
      "text/plain": [
       "Text(0.5,0,'Incidents')"
      ]
     },
     "execution_count": 326,
     "metadata": {},
     "output_type": "execute_result"
    },
    {
     "data": {
      "image/png": "[encoded data removed]",
      "text/plain": [
       "<matplotlib.figure.Figure at 0x7f6f5920d898>"
      ]
     },
     "metadata": {},
     "output_type": "display_data"
    }
   ],
   "source": [
    "from mpl_toolkits.mplot3d import Axes3D\n",
    "fig = plt.figure(figsize=(4, 3))\n",
    "ax = Axes3D(fig, rect=[0, 0, .95, 1], elev=48, azim=134)\n",
    "\n",
    "labels = asthma_air_clusters.labels_\n",
    "\n",
    "ax.scatter(model_df.loc[:, 'PM2.5'], model_df.loc[:, 'OZONE'], model_df.loc[:, 'Incidents'],\n",
    "           c=labels.astype(np.float), edgecolor='k')\n",
    "\n",
    "ax.set_xlabel('Particulates')\n",
    "ax.set_ylabel('Ozone')\n",
    "ax.set_zlabel('Incidents')\n"
   ]
  }
 ],
 "metadata": {
  "celltoolbar": "Slideshow",
  "kernelspec": {
   "display_name": "Python 3",
   "language": "python",
   "name": "python3"
  },
  "language_info": {
   "codemirror_mode": {
    "name": "ipython",
    "version": 3
   },
   "file_extension": ".py",
   "mimetype": "text/x-python",
   "name": "python",
   "nbconvert_exporter": "python",
   "pygments_lexer": "ipython3",
   "version": "3.6.1"
  }
 },
 "nbformat": 4,
 "nbformat_minor": 2
}
