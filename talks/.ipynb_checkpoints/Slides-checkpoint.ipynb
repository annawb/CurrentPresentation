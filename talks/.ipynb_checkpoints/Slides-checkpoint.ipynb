{
 "cells": [
  {
   "cell_type": "markdown",
   "metadata": {
    "slideshow": {
     "slide_type": "slide"
    }
   },
   "source": [
    "# Manipulating Data in Python\n",
    "\n",
    "## Laila A. Wahedi\n",
    "### Massive Data Institute Postdoctoral Fellow <br>McCourt School of Public Policy\n",
    "\n",
    "### Follow along: Wahedi.us, Current Presentation"
   ]
  },
  {
   "cell_type": "markdown",
   "metadata": {
    "slideshow": {
     "slide_type": "slide"
    }
   },
   "source": [
    "# Installing packages:\n",
    "\n",
    "### On a Mac: \n",
    "   - Open terminal \n",
    "\n",
    "### On Windows: \n",
    "   - Type cmd into the start menu\n",
    "\n",
    "### What is this? \n",
    "- Like an explorer window. The text at the start of the line tells you where you are. \n",
    "- To see what's there, type: \n",
    "  - On Mac: ls (That's an L, not an i)\n",
    "  - On Windows: dir"
   ]
  },
  {
   "cell_type": "markdown",
   "metadata": {
    "slideshow": {
     "slide_type": "slide"
    }
   },
   "source": [
    "# Installing Packages:\n",
    "\n",
    "### Install Packages \n",
    "Install some packages so they are done by the time we need them.\n",
    "    Type:\n",
    "    \n",
    "- ```pip install pandas```\n",
    "\n",
    "When that's done, type: \n",
    "\n",
    "- ```pip install matplotlib```\n",
    "- ```pip install pickle```\n",
    "- ```pip install statsmodels```\n",
    "    \n",
    "Note: if you installed the Continuum Python distribution, you may already have some of these packages installed. \n",
    "***\n",
    "### What just happened?\n",
    "- Pip is a download manager, it automatically looks online to find the package and installs it on your computer\n",
    "- Similar to the CRAN Mirror\n",
    "- Bonus: if you followed the link I sent to install Anaconda, you have the conda download manager too. \n",
    "  - ```conda install``` works similarly to pip, and also works on many R packages when used with Jupyter notebooks. "
   ]
  },
  {
   "cell_type": "markdown",
   "metadata": {
    "slideshow": {
     "slide_type": "slide"
    }
   },
   "source": [
    "\n",
    "# Opening Jupyter\n",
    "- Open up another terminal/command prompt while your packages download\n",
    "- Navigate to the directory you want your script to be in\n",
    "  - Type `ls` to see what folders are in the current folder\n",
    "  - Type cd .. to go one folder up\n",
    "  - Type cd folder_name to go to a sub-folder\n",
    "    - Type mkdir folder_name to make a folder\n",
    "  - Type: \n",
    "    - jupyter notebook\n",
    "\n",
    "### What happened? \n",
    "- A browser window popped up\n",
    "- Address something along the lines of localhost:8888/tree\n",
    "- Address is listed in the terminal/command prompt \n",
    "- Go to this address from any browser to open your tree\n"
   ]
  },
  {
   "cell_type": "markdown",
   "metadata": {
    "slideshow": {
     "slide_type": "slide"
    }
   },
   "source": [
    "# Your Jupyter Tree\n",
    "- You should be in the folder you navigated to in terminal/cmd\n",
    "- You can make folders here too\n",
    "- Top right, select new notebook, python3\n",
    "\n",
    "### Open this notebook:\n",
    "- Move the file into the directory for your Jupyter Tree\n",
    "- Select the file from teh Jupyter Tree\n",
    "- A new tab should open in your browser.\n",
    "- Add new cells to take notes as you go along. \n",
    "  - Change the type of note cells to Markdown"
   ]
  },
  {
   "cell_type": "markdown",
   "metadata": {
    "slideshow": {
     "slide_type": "slide"
    }
   },
   "source": [
    "# Some Python Basics"
   ]
  },
  {
   "cell_type": "markdown",
   "metadata": {
    "slideshow": {
     "slide_type": "slide"
    }
   },
   "source": [
    "# What is code?\n",
    "* Set of clear instructions to the computer\n",
    "* Start with basic set of building blocks\n",
    "* Put those building blocks together \n",
    "\n",
    "## Goal of programming:\n",
    "* Break your task into building blocks \n",
    "* Put building blocks together into an <b> algorithm </b> \n",
    "\n",
    "## Our tasks:\n",
    "* Move and manipulate data using these building blocks. "
   ]
  },
  {
   "cell_type": "markdown",
   "metadata": {
    "slideshow": {
     "slide_type": "slide"
    }
   },
   "source": [
    "# Building Blocks\n",
    "<img src=\"building_blocks.png\">\n",
    "* Ball and urn example"
   ]
  },
  {
   "cell_type": "markdown",
   "metadata": {
    "slideshow": {
     "slide_type": "slide"
    }
   },
   "source": [
    "# Our First Algorithm\n",
    "\n",
    "<img src=\"algorithm1.png\">\n"
   ]
  },
  {
   "cell_type": "markdown",
   "metadata": {
    "slideshow": {
     "slide_type": "slide"
    }
   },
   "source": [
    "# Basic Data Structures\n",
    "## Strings\n",
    "* Text variables\n",
    "* Declare with either '', or \"\"\n",
    "\n"
   ]
  },
  {
   "cell_type": "code",
   "execution_count": 20,
   "metadata": {
    "collapsed": false,
    "slideshow": {
     "slide_type": "fragment"
    }
   },
   "outputs": [
    {
     "name": "stdout",
     "output_type": "stream",
     "text": [
      "Hello World\n"
     ]
    }
   ],
   "source": [
    "my_string = 'Hello World'\n",
    "print(my_string)"
   ]
  },
  {
   "cell_type": "markdown",
   "metadata": {
    "slideshow": {
     "slide_type": "slide"
    }
   },
   "source": [
    "## Numbers: \n",
    "* ints: integers\n",
    "* floats: numbers with decimals \n",
    "* Combine them to get a new float"
   ]
  },
  {
   "cell_type": "code",
   "execution_count": 25,
   "metadata": {
    "collapsed": false,
    "slideshow": {
     "slide_type": "fragment"
    }
   },
   "outputs": [
    {
     "name": "stdout",
     "output_type": "stream",
     "text": [
      "4.2\n"
     ]
    },
    {
     "data": {
      "text/plain": [
       "float"
      ]
     },
     "execution_count": 25,
     "metadata": {},
     "output_type": "execute_result"
    }
   ],
   "source": [
    "my_int = 2\n",
    "my_float = 2.2\n",
    "new_float = my_int+my_float\n",
    "print(new_float)\n",
    "type(new_float)"
   ]
  },
  {
   "cell_type": "markdown",
   "metadata": {
    "slideshow": {
     "slide_type": "slide"
    }
   },
   "source": [
    "## Lists\n",
    " * Declare with: []\n",
    " * Ordered list of objects"
   ]
  },
  {
   "cell_type": "code",
   "execution_count": null,
   "metadata": {
    "collapsed": true,
    "slideshow": {
     "slide_type": "fragment"
    }
   },
   "outputs": [],
   "source": [
    "my_list = [0,1,2,3,4]"
   ]
  },
  {
   "cell_type": "markdown",
   "metadata": {
    "slideshow": {
     "slide_type": "fragment"
    }
   },
   "source": [
    "* Zero indexed"
   ]
  },
  {
   "cell_type": "code",
   "execution_count": 12,
   "metadata": {
    "collapsed": false,
    "slideshow": {
     "slide_type": "fragment"
    }
   },
   "outputs": [
    {
     "name": "stdout",
     "output_type": "stream",
     "text": [
      "1\n"
     ]
    }
   ],
   "source": [
    "print(my_list[1])"
   ]
  },
  {
   "cell_type": "markdown",
   "metadata": {
    "slideshow": {
     "slide_type": "fragment"
    }
   },
   "source": [
    "* Lists are Mutable: "
   ]
  },
  {
   "cell_type": "code",
   "execution_count": 13,
   "metadata": {
    "collapsed": false,
    "slideshow": {
     "slide_type": "fragment"
    }
   },
   "outputs": [
    {
     "name": "stdout",
     "output_type": "stream",
     "text": [
      "[0, 1, 'hello', 3, 4]\n"
     ]
    }
   ],
   "source": [
    "my_list[2]='hello'\n",
    "print(my_list)"
   ]
  },
  {
   "cell_type": "markdown",
   "metadata": {
    "slideshow": {
     "slide_type": "slide"
    }
   },
   "source": [
    "## Dictionaries\n",
    "* key value pairs indexed by key\n",
    "* Declared by {key:value}"
   ]
  },
  {
   "cell_type": "code",
   "execution_count": 14,
   "metadata": {
    "collapsed": false,
    "slideshow": {
     "slide_type": "fragment"
    }
   },
   "outputs": [
    {
     "name": "stdout",
     "output_type": "stream",
     "text": [
      "4\n"
     ]
    }
   ],
   "source": [
    "my_dictionary = {'apple':4,\n",
    "                'pear':'yum'}\n",
    "print(my_dictionary['apple'])"
   ]
  },
  {
   "cell_type": "markdown",
   "metadata": {
    "slideshow": {
     "slide_type": "fragment"
    }
   },
   "source": [
    "* Add key value pairs later using indexing with brackets []\n",
    "* You can store data type you want"
   ]
  },
  {
   "cell_type": "code",
   "execution_count": 17,
   "metadata": {
    "collapsed": false,
    "slideshow": {
     "slide_type": "fragment"
    }
   },
   "outputs": [
    {
     "name": "stdout",
     "output_type": "stream",
     "text": [
      "[0, 1, 'hello', 3, 4]\n"
     ]
    }
   ],
   "source": [
    "my_dictionary['numbers'] = my_list\n",
    "print(my_dictionary['numbers'])"
   ]
  },
  {
   "cell_type": "markdown",
   "metadata": {
    "slideshow": {
     "slide_type": "slide"
    }
   },
   "source": [
    "## Sets\n",
    "* Like a list, but:\n",
    "  * Contains unique values\n",
    "  * Unordered\n",
    "* Declare with {}"
   ]
  },
  {
   "cell_type": "code",
   "execution_count": 18,
   "metadata": {
    "collapsed": false,
    "slideshow": {
     "slide_type": "fragment"
    }
   },
   "outputs": [
    {
     "name": "stdout",
     "output_type": "stream",
     "text": [
      "{'thing2', 4, 'thing1', 'cat in hat'}\n"
     ]
    }
   ],
   "source": [
    "my_set = {'thing1','thing2','cat in hat','thing1', 4,4}\n",
    "print(my_set)"
   ]
  },
  {
   "cell_type": "markdown",
   "metadata": {
    "slideshow": {
     "slide_type": "slide"
    }
   },
   "source": [
    "## Tuples\n",
    "* Like an ordered list, but can't be changed\n",
    "* Declare with ()"
   ]
  },
  {
   "cell_type": "code",
   "execution_count": 19,
   "metadata": {
    "collapsed": false,
    "slideshow": {
     "slide_type": "fragment"
    }
   },
   "outputs": [
    {
     "name": "stdout",
     "output_type": "stream",
     "text": [
      "(1, 3, 2)\n"
     ]
    }
   ],
   "source": [
    "my_tuple = (1,3,2)\n",
    "print(my_tuple)"
   ]
  },
  {
   "cell_type": "markdown",
   "metadata": {
    "slideshow": {
     "slide_type": "slide"
    }
   },
   "source": [
    "# Our First Algorithm: Strings\n",
    "\n",
    "<img src=\"algorithm1.png\">\n"
   ]
  },
  {
   "cell_type": "code",
   "execution_count": 23,
   "metadata": {
    "collapsed": false,
    "slideshow": {
     "slide_type": "fragment"
    }
   },
   "outputs": [
    {
     "name": "stdout",
     "output_type": "stream",
     "text": [
      "hello world\n"
     ]
    }
   ],
   "source": [
    "# Declare Data\n",
    "my_data = 'hello '\n",
    "my_other_data = 'world'\n",
    "#Manipulate it\n",
    "manipulated_data = my_data+my_other_data\n",
    "#Output it:\n",
    "print(manipulated_data)"
   ]
  },
  {
   "cell_type": "markdown",
   "metadata": {
    "slideshow": {
     "slide_type": "slide"
    }
   },
   "source": [
    "# Our First Algorithm: Numbers\n",
    "\n",
    "<img src=\"algorithm1.png\">\n"
   ]
  },
  {
   "cell_type": "code",
   "execution_count": 26,
   "metadata": {
    "collapsed": false,
    "slideshow": {
     "slide_type": "fragment"
    }
   },
   "outputs": [
    {
     "name": "stdout",
     "output_type": "stream",
     "text": [
      "0.2\n"
     ]
    }
   ],
   "source": [
    "# Declare Data\n",
    "my_data =  1\n",
    "my_other_data = 5\n",
    "#Manipulate it\n",
    "manipulated_data = 1/5\n",
    "#Output it:\n",
    "print(manipulated_data)"
   ]
  },
  {
   "cell_type": "markdown",
   "metadata": {
    "slideshow": {
     "slide_type": "slide"
    }
   },
   "source": [
    "# Adding Choices \n",
    "\n",
    "<img src=\"if_algorithm.png\">\n"
   ]
  },
  {
   "cell_type": "markdown",
   "metadata": {
    "slideshow": {
     "slide_type": "slide"
    }
   },
   "source": [
    "# Writing Instructions Python Can Understand: \n",
    "\n",
    "\n",
    "## Whitespace matters\n",
    "* tabs indicate a block of code within an if statement or loop\n",
    "* : marks the start of the block\n",
    "* \\ for a linebreak mid-line\n",
    "* Line breaks allowed inside (), [], {}"
   ]
  },
  {
   "cell_type": "markdown",
   "metadata": {
    "slideshow": {
     "slide_type": "slide"
    }
   },
   "source": [
    "# If statements\n",
    "- = to assign\n",
    "  - Like <- in R\n",
    "- == to evaluate\n"
   ]
  },
  {
   "cell_type": "code",
   "execution_count": 2,
   "metadata": {
    "collapsed": false,
    "slideshow": {
     "slide_type": "fragment"
    }
   },
   "outputs": [
    {
     "name": "stdout",
     "output_type": "stream",
     "text": [
      "5\n",
      "True\n"
     ]
    }
   ],
   "source": [
    "my_variable = 5\n",
    "print(my_variable)\n",
    "print(my_variable == 5)"
   ]
  },
  {
   "cell_type": "markdown",
   "metadata": {
    "slideshow": {
     "slide_type": "fragment"
    }
   },
   "source": [
    "- Compare values with: \n",
    "  - <, <=, >, >=, ==, !=, in, not in,\n"
   ]
  },
  {
   "cell_type": "code",
   "execution_count": 5,
   "metadata": {
    "collapsed": false,
    "slideshow": {
     "slide_type": "fragment"
    }
   },
   "outputs": [
    {
     "name": "stdout",
     "output_type": "stream",
     "text": [
      "False\n",
      "False\n"
     ]
    }
   ],
   "source": [
    "print(my_variable > 6)\n",
    "print(my_variable in [1,4,7])"
   ]
  },
  {
   "cell_type": "markdown",
   "metadata": {
    "slideshow": {
     "slide_type": "slide"
    }
   },
   "source": [
    "# Booleans and Indicators\n",
    "- booleans are indicators of True or False\n",
    "- In Python3, True = 1, and False = 0 "
   ]
  },
  {
   "cell_type": "code",
   "execution_count": 6,
   "metadata": {
    "collapsed": false,
    "slideshow": {
     "slide_type": "fragment"
    }
   },
   "outputs": [
    {
     "data": {
      "text/plain": [
       "2"
      ]
     },
     "execution_count": 6,
     "metadata": {},
     "output_type": "execute_result"
    }
   ],
   "source": [
    "True + True"
   ]
  },
  {
   "cell_type": "markdown",
   "metadata": {
    "slideshow": {
     "slide_type": "fragment"
    }
   },
   "source": [
    "- None is a null value\n",
    "- None evaluates to false in an if statement. "
   ]
  },
  {
   "cell_type": "markdown",
   "metadata": {
    "slideshow": {
     "slide_type": "slide"
    }
   },
   "source": [
    "# If statements: \n",
    "- Used to change behavior depending on conditionals\n",
    "- Declare the statement\n",
    "- Declare the conditional action within a code block, or indentation:\n",
    "- Declare alternative actions in else\n",
    "- Stack conditionals with elif"
   ]
  },
  {
   "cell_type": "code",
   "execution_count": 7,
   "metadata": {
    "collapsed": false,
    "slideshow": {
     "slide_type": "fragment"
    }
   },
   "outputs": [
    {
     "name": "stdout",
     "output_type": "stream",
     "text": [
      "yay\n"
     ]
    }
   ],
   "source": [
    "my_bool = 'ice cream'\n",
    "if my_bool == 'ice cream': \n",
    "    print('yay')\n",
    "elif my_bool == 'cake':\n",
    "    print('woo!')\n",
    "else:\n",
    "    print('Woe and great tragedy!')"
   ]
  },
  {
   "cell_type": "markdown",
   "metadata": {
    "slideshow": {
     "slide_type": "slide"
    }
   },
   "source": [
    "## Play around yourself: "
   ]
  },
  {
   "cell_type": "code",
   "execution_count": 9,
   "metadata": {
    "collapsed": false,
    "slideshow": {
     "slide_type": "fragment"
    }
   },
   "outputs": [
    {
     "name": "stdout",
     "output_type": "stream",
     "text": [
      "Check is: True\n",
      "yes\n",
      "in\n"
     ]
    }
   ],
   "source": [
    "check = True\n",
    "# check = False\n",
    "# check = None\n",
    "# check = 'monkey'\n",
    "# check = 0\n",
    "# check = 10\n",
    "print('Check is:', check)\n",
    "if check == 'monkey':\n",
    "    print('banana')\n",
    "elif check:\n",
    "    print('yes')\n",
    "else:\n",
    "    print('no')\n",
    "    \n",
    "if 1 not in [1,2,3]:\n",
    "    print('not not in')\n",
    "if 1 in [1,2,3]:\n",
    "    print('in')\n"
   ]
  },
  {
   "cell_type": "markdown",
   "metadata": {
    "slideshow": {
     "slide_type": "slide"
    }
   },
   "source": [
    "# Repetition\n",
    "<img src=\"loops.png\">"
   ]
  },
  {
   "cell_type": "markdown",
   "metadata": {
    "slideshow": {
     "slide_type": "slide"
    }
   },
   "source": [
    "### While loops\n",
    "* Do something in block of code until condition met\n",
    "* Make sure you change the condition in every loop, or it will go forever"
   ]
  },
  {
   "cell_type": "code",
   "execution_count": 23,
   "metadata": {
    "collapsed": false,
    "slideshow": {
     "slide_type": "fragment"
    }
   },
   "outputs": [
    {
     "name": "stdout",
     "output_type": "stream",
     "text": [
      "0\n",
      "1\n",
      "2\n",
      "3\n",
      "4\n"
     ]
    }
   ],
   "source": [
    "n = 0\n",
    "while n < 5:\n",
    "    print(n)\n",
    "    n= n+1"
   ]
  },
  {
   "cell_type": "markdown",
   "metadata": {
    "slideshow": {
     "slide_type": "slide"
    }
   },
   "source": [
    "### For loops\n",
    "* repeat block of code for:\n",
    "  * a certain number of iterations\n",
    "  * For every element in a list\n",
    "* range() gives you an iterator"
   ]
  },
  {
   "cell_type": "code",
   "execution_count": 22,
   "metadata": {
    "collapsed": false,
    "slideshow": {
     "slide_type": "slide"
    }
   },
   "outputs": [
    {
     "name": "stdout",
     "output_type": "stream",
     "text": [
      "use a range:\n",
      "0\n",
      "1\n",
      "2\n",
      "use a range slice:\n",
      "3\n",
      "4\n",
      "5\n",
      "iterate throubh a list:\n",
      "0\n",
      "1\n",
      "hello\n",
      "3\n",
      "4\n"
     ]
    }
   ],
   "source": [
    "print('use a range:')\n",
    "for i in range(3):\n",
    "    print(i)\n",
    "print('use a range slice:')\n",
    "for i in range(3,6):\n",
    "    print(i)\n",
    "print('iterate throubh a list:')\n",
    "for i in my_list:\n",
    "    print(i)"
   ]
  },
  {
   "cell_type": "markdown",
   "metadata": {
    "slideshow": {
     "slide_type": "slide"
    }
   },
   "source": [
    "### Put them together:\n",
    "* Play around on your own"
   ]
  },
  {
   "cell_type": "code",
   "execution_count": 10,
   "metadata": {
    "collapsed": false,
    "slideshow": {
     "slide_type": "fragment"
    }
   },
   "outputs": [
    {
     "name": "stdout",
     "output_type": "stream",
     "text": [
      "['cat', 'frog']\n",
      "[0, 1, 3]\n"
     ]
    }
   ],
   "source": [
    "my_list = [0,1,'cat',None,'frog',3]\n",
    "animals = []\n",
    "nums = []\n",
    "for i in my_list:\n",
    "    if type(i)==str:\n",
    "        animals.append(i)\n",
    "    elif type(i)==int:\n",
    "        nums.append(i)\n",
    "    else:\n",
    "        pass\n",
    "print(animals)\n",
    "print(nums)"
   ]
  },
  {
   "cell_type": "markdown",
   "metadata": {
    "slideshow": {
     "slide_type": "slide"
    }
   },
   "source": [
    "# Learn More: \n",
    "### These are the basic building blocks for scripting. To learn more about how to put them together to greater effect: \n",
    "* Take an introductory computer science course online\n",
    "* Check out GU Women Coders. \n",
    "  * Can't make it in person? Their website has lots of great resources.\n",
    "  * http://guwecode.georgetown.domains/"
   ]
  },
  {
   "cell_type": "markdown",
   "metadata": {
    "slideshow": {
     "slide_type": "slide"
    }
   },
   "source": [
    "## Import packages\n",
    "* Like library(package) in R\n",
    "* Pandas is a dataframe data structure like dataframes in R\n",
    "* matplotlib is a plotting package similar to plotting in Matlab\n",
    " * you can view plots inline in pandas notebooks with the inline command\n",
    "* ggplot is a plotting package built on matplotlib like ggplot2 in R\n",
    "* Pickle lets you save your workspace\n",
    "* Statsmodels contains many of the statistical models you know and love"
   ]
  },
  {
   "cell_type": "code",
   "execution_count": 2,
   "metadata": {
    "collapsed": false,
    "slideshow": {
     "slide_type": "fragment"
    }
   },
   "outputs": [],
   "source": [
    "import pandas as pd\n",
    "import matplotlib.pyplot as plt\n",
    "%matplotlib inline\n",
    "# from ggplot import *\n",
    "import pickle\n",
    "import statsmodels.api as sm\n"
   ]
  },
  {
   "cell_type": "markdown",
   "metadata": {
    "slideshow": {
     "slide_type": "slide"
    }
   },
   "source": [
    "# Pandas Data Frames\n",
    "## Using Documentation\n",
    "* Pandas website\n",
    "* Stack Overflow\n",
    "* Copy errors into google\n",
    "* Look up syntax differences with R\n",
    "## Load Data from a comma separated file\n",
    "* Start by googling it: http://lmgtfy.com/?q=pandas+load+csv\n",
    "\n",
    "## We will use the Big Allied and Dangerous Data from START\n",
    "* https://dataverse.harvard.edu/file.xhtml?fileId=2298519&version=RELEASED&version=.0"
   ]
  },
  {
   "cell_type": "code",
   "execution_count": 3,
   "metadata": {
    "collapsed": true,
    "slideshow": {
     "slide_type": "fragment"
    }
   },
   "outputs": [],
   "source": [
    "baad_covars = pd.read_csv('BAAD_1_Lethality_Data.tab',sep='\\t')"
   ]
  },
  {
   "cell_type": "markdown",
   "metadata": {
    "slideshow": {
     "slide_type": "slide"
    }
   },
   "source": [
    "# Look at the data"
   ]
  },
  {
   "cell_type": "code",
   "execution_count": 85,
   "metadata": {
    "collapsed": false,
    "scrolled": true
   },
   "outputs": [
    {
     "data": {
      "text/html": [
       "<div>\n",
       "<style>\n",
       "    .dataframe thead tr:only-child th {\n",
       "        text-align: right;\n",
       "    }\n",
       "\n",
       "    .dataframe thead th {\n",
       "        text-align: left;\n",
       "    }\n",
       "\n",
       "    .dataframe tbody tr th {\n",
       "        vertical-align: top;\n",
       "    }\n",
       "</style>\n",
       "<table border=\"1\" class=\"dataframe\">\n",
       "  <thead>\n",
       "    <tr style=\"text-align: right;\">\n",
       "      <th></th>\n",
       "      <th>mastertccode3606</th>\n",
       "      <th>group</th>\n",
       "      <th>statespond</th>\n",
       "      <th>cowmastercountry</th>\n",
       "      <th>masterccode</th>\n",
       "      <th>fatalities19982005</th>\n",
       "      <th>OrgAge</th>\n",
       "      <th>ordsize</th>\n",
       "      <th>terrStrong</th>\n",
       "      <th>degree</th>\n",
       "      <th>ContainRelig</th>\n",
       "      <th>ContainEthno</th>\n",
       "      <th>LeftNoReligEthno</th>\n",
       "      <th>PureRelig</th>\n",
       "      <th>PureEthno</th>\n",
       "      <th>ReligEthno</th>\n",
       "      <th>ContainRelig2</th>\n",
       "      <th>ContainEthno2</th>\n",
       "      <th>Islam</th>\n",
       "    </tr>\n",
       "  </thead>\n",
       "  <tbody>\n",
       "    <tr>\n",
       "      <th>0</th>\n",
       "      <td>50</td>\n",
       "      <td>Animal Liberation Front (ALF)</td>\n",
       "      <td>0</td>\n",
       "      <td>United States of America</td>\n",
       "      <td>2</td>\n",
       "      <td>0</td>\n",
       "      <td>30</td>\n",
       "      <td>0</td>\n",
       "      <td>0</td>\n",
       "      <td>1</td>\n",
       "      <td>0</td>\n",
       "      <td>0</td>\n",
       "      <td>0</td>\n",
       "      <td>0</td>\n",
       "      <td>0</td>\n",
       "      <td>0</td>\n",
       "      <td>0</td>\n",
       "      <td>0</td>\n",
       "      <td>0</td>\n",
       "    </tr>\n",
       "    <tr>\n",
       "      <th>1</th>\n",
       "      <td>89</td>\n",
       "      <td>Army of God</td>\n",
       "      <td>0</td>\n",
       "      <td>United States of America</td>\n",
       "      <td>2</td>\n",
       "      <td>1</td>\n",
       "      <td>24</td>\n",
       "      <td>0</td>\n",
       "      <td>0</td>\n",
       "      <td>0</td>\n",
       "      <td>1</td>\n",
       "      <td>0</td>\n",
       "      <td>0</td>\n",
       "      <td>1</td>\n",
       "      <td>0</td>\n",
       "      <td>0</td>\n",
       "      <td>1</td>\n",
       "      <td>0</td>\n",
       "      <td>0</td>\n",
       "    </tr>\n",
       "    <tr>\n",
       "      <th>2</th>\n",
       "      <td>113</td>\n",
       "      <td>Cambodian Freedom Fighters (CFF)</td>\n",
       "      <td>0</td>\n",
       "      <td>United States of America</td>\n",
       "      <td>2</td>\n",
       "      <td>0</td>\n",
       "      <td>8</td>\n",
       "      <td>0</td>\n",
       "      <td>0</td>\n",
       "      <td>0</td>\n",
       "      <td>0</td>\n",
       "      <td>1</td>\n",
       "      <td>0</td>\n",
       "      <td>0</td>\n",
       "      <td>0</td>\n",
       "      <td>0</td>\n",
       "      <td>0</td>\n",
       "      <td>1</td>\n",
       "      <td>0</td>\n",
       "    </tr>\n",
       "    <tr>\n",
       "      <th>3</th>\n",
       "      <td>126</td>\n",
       "      <td>Coalition to Save the Preserves (CSP)</td>\n",
       "      <td>0</td>\n",
       "      <td>United States of America</td>\n",
       "      <td>2</td>\n",
       "      <td>0</td>\n",
       "      <td>6</td>\n",
       "      <td>0</td>\n",
       "      <td>0</td>\n",
       "      <td>0</td>\n",
       "      <td>0</td>\n",
       "      <td>0</td>\n",
       "      <td>0</td>\n",
       "      <td>0</td>\n",
       "      <td>0</td>\n",
       "      <td>0</td>\n",
       "      <td>0</td>\n",
       "      <td>0</td>\n",
       "      <td>0</td>\n",
       "    </tr>\n",
       "    <tr>\n",
       "      <th>4</th>\n",
       "      <td>153</td>\n",
       "      <td>Earth Liberation Front (ELF)</td>\n",
       "      <td>0</td>\n",
       "      <td>United States of America</td>\n",
       "      <td>2</td>\n",
       "      <td>0</td>\n",
       "      <td>14</td>\n",
       "      <td>0</td>\n",
       "      <td>0</td>\n",
       "      <td>1</td>\n",
       "      <td>0</td>\n",
       "      <td>0</td>\n",
       "      <td>0</td>\n",
       "      <td>0</td>\n",
       "      <td>0</td>\n",
       "      <td>0</td>\n",
       "      <td>0</td>\n",
       "      <td>0</td>\n",
       "      <td>0</td>\n",
       "    </tr>\n",
       "  </tbody>\n",
       "</table>\n",
       "</div>"
      ],
      "text/plain": [
       "   mastertccode3606                                  group  statespond  \\\n",
       "0                50          Animal Liberation Front (ALF)           0   \n",
       "1                89                            Army of God           0   \n",
       "2               113       Cambodian Freedom Fighters (CFF)           0   \n",
       "3               126  Coalition to Save the Preserves (CSP)           0   \n",
       "4               153           Earth Liberation Front (ELF)           0   \n",
       "\n",
       "           cowmastercountry  masterccode  fatalities19982005  OrgAge  ordsize  \\\n",
       "0  United States of America            2                   0      30        0   \n",
       "1  United States of America            2                   1      24        0   \n",
       "2  United States of America            2                   0       8        0   \n",
       "3  United States of America            2                   0       6        0   \n",
       "4  United States of America            2                   0      14        0   \n",
       "\n",
       "   terrStrong  degree  ContainRelig  ContainEthno  LeftNoReligEthno  \\\n",
       "0           0       1             0             0                 0   \n",
       "1           0       0             1             0                 0   \n",
       "2           0       0             0             1                 0   \n",
       "3           0       0             0             0                 0   \n",
       "4           0       1             0             0                 0   \n",
       "\n",
       "   PureRelig  PureEthno  ReligEthno  ContainRelig2  ContainEthno2  Islam  \n",
       "0          0          0           0              0              0      0  \n",
       "1          1          0           0              1              0      0  \n",
       "2          0          0           0              0              1      0  \n",
       "3          0          0           0              0              0      0  \n",
       "4          0          0           0              0              0      0  "
      ]
     },
     "execution_count": 85,
     "metadata": {},
     "output_type": "execute_result"
    }
   ],
   "source": [
    "baad_covars.head()"
   ]
  },
  {
   "cell_type": "markdown",
   "metadata": {
    "slideshow": {
     "slide_type": "slide"
    }
   },
   "source": [
    "# Rename things and adjust values"
   ]
  },
  {
   "cell_type": "code",
   "execution_count": 8,
   "metadata": {
    "collapsed": false,
    "slideshow": {
     "slide_type": "fragment"
    }
   },
   "outputs": [
    {
     "name": "stdout",
     "output_type": "stream",
     "text": [
      "('Dimensions: ', (395, 19))\n"
     ]
    },
    {
     "data": {
      "text/html": [
       "<div>\n",
       "<table border=\"1\" class=\"dataframe\">\n",
       "  <thead>\n",
       "    <tr style=\"text-align: right;\">\n",
       "      <th></th>\n",
       "      <th>group_code</th>\n",
       "      <th>group</th>\n",
       "      <th>statespond</th>\n",
       "      <th>country</th>\n",
       "      <th>ccode</th>\n",
       "      <th>fatalities</th>\n",
       "      <th>OrgAge</th>\n",
       "      <th>ordsize</th>\n",
       "      <th>terrStrong</th>\n",
       "      <th>degree</th>\n",
       "      <th>ContainRelig</th>\n",
       "      <th>ContainEthno</th>\n",
       "      <th>LeftNoReligEthno</th>\n",
       "      <th>PureRelig</th>\n",
       "      <th>PureEthno</th>\n",
       "      <th>ReligEthno</th>\n",
       "      <th>ContainRelig2</th>\n",
       "      <th>ContainEthno2</th>\n",
       "      <th>Islam</th>\n",
       "    </tr>\n",
       "  </thead>\n",
       "  <tbody>\n",
       "    <tr>\n",
       "      <th>0</th>\n",
       "      <td>50</td>\n",
       "      <td>Animal Liberation Front (ALF)</td>\n",
       "      <td>0</td>\n",
       "      <td>US</td>\n",
       "      <td>2</td>\n",
       "      <td>0</td>\n",
       "      <td>30</td>\n",
       "      <td>0</td>\n",
       "      <td>0</td>\n",
       "      <td>1</td>\n",
       "      <td>0</td>\n",
       "      <td>0</td>\n",
       "      <td>0</td>\n",
       "      <td>0</td>\n",
       "      <td>0</td>\n",
       "      <td>0</td>\n",
       "      <td>0</td>\n",
       "      <td>0</td>\n",
       "      <td>0</td>\n",
       "    </tr>\n",
       "    <tr>\n",
       "      <th>1</th>\n",
       "      <td>89</td>\n",
       "      <td>Army of God</td>\n",
       "      <td>0</td>\n",
       "      <td>US</td>\n",
       "      <td>2</td>\n",
       "      <td>1</td>\n",
       "      <td>24</td>\n",
       "      <td>0</td>\n",
       "      <td>0</td>\n",
       "      <td>0</td>\n",
       "      <td>1</td>\n",
       "      <td>0</td>\n",
       "      <td>0</td>\n",
       "      <td>1</td>\n",
       "      <td>0</td>\n",
       "      <td>0</td>\n",
       "      <td>1</td>\n",
       "      <td>0</td>\n",
       "      <td>0</td>\n",
       "    </tr>\n",
       "    <tr>\n",
       "      <th>2</th>\n",
       "      <td>113</td>\n",
       "      <td>Cambodian Freedom Fighters (CFF)</td>\n",
       "      <td>0</td>\n",
       "      <td>US</td>\n",
       "      <td>2</td>\n",
       "      <td>0</td>\n",
       "      <td>8</td>\n",
       "      <td>0</td>\n",
       "      <td>0</td>\n",
       "      <td>0</td>\n",
       "      <td>0</td>\n",
       "      <td>1</td>\n",
       "      <td>0</td>\n",
       "      <td>0</td>\n",
       "      <td>0</td>\n",
       "      <td>0</td>\n",
       "      <td>0</td>\n",
       "      <td>1</td>\n",
       "      <td>0</td>\n",
       "    </tr>\n",
       "    <tr>\n",
       "      <th>3</th>\n",
       "      <td>126</td>\n",
       "      <td>Coalition to Save the Preserves (CSP)</td>\n",
       "      <td>0</td>\n",
       "      <td>US</td>\n",
       "      <td>2</td>\n",
       "      <td>0</td>\n",
       "      <td>6</td>\n",
       "      <td>0</td>\n",
       "      <td>0</td>\n",
       "      <td>0</td>\n",
       "      <td>0</td>\n",
       "      <td>0</td>\n",
       "      <td>0</td>\n",
       "      <td>0</td>\n",
       "      <td>0</td>\n",
       "      <td>0</td>\n",
       "      <td>0</td>\n",
       "      <td>0</td>\n",
       "      <td>0</td>\n",
       "    </tr>\n",
       "    <tr>\n",
       "      <th>4</th>\n",
       "      <td>153</td>\n",
       "      <td>Earth Liberation Front (ELF)</td>\n",
       "      <td>0</td>\n",
       "      <td>US</td>\n",
       "      <td>2</td>\n",
       "      <td>0</td>\n",
       "      <td>14</td>\n",
       "      <td>0</td>\n",
       "      <td>0</td>\n",
       "      <td>1</td>\n",
       "      <td>0</td>\n",
       "      <td>0</td>\n",
       "      <td>0</td>\n",
       "      <td>0</td>\n",
       "      <td>0</td>\n",
       "      <td>0</td>\n",
       "      <td>0</td>\n",
       "      <td>0</td>\n",
       "      <td>0</td>\n",
       "    </tr>\n",
       "  </tbody>\n",
       "</table>\n",
       "</div>"
      ],
      "text/plain": [
       "   group_code                                  group  statespond country  \\\n",
       "0          50          Animal Liberation Front (ALF)           0      US   \n",
       "1          89                            Army of God           0      US   \n",
       "2         113       Cambodian Freedom Fighters (CFF)           0      US   \n",
       "3         126  Coalition to Save the Preserves (CSP)           0      US   \n",
       "4         153           Earth Liberation Front (ELF)           0      US   \n",
       "\n",
       "   ccode  fatalities  OrgAge  ordsize  terrStrong  degree  ContainRelig  \\\n",
       "0      2           0      30        0           0       1             0   \n",
       "1      2           1      24        0           0       0             1   \n",
       "2      2           0       8        0           0       0             0   \n",
       "3      2           0       6        0           0       0             0   \n",
       "4      2           0      14        0           0       1             0   \n",
       "\n",
       "   ContainEthno  LeftNoReligEthno  PureRelig  PureEthno  ReligEthno  \\\n",
       "0             0                 0          0          0           0   \n",
       "1             0                 0          1          0           0   \n",
       "2             1                 0          0          0           0   \n",
       "3             0                 0          0          0           0   \n",
       "4             0                 0          0          0           0   \n",
       "\n",
       "   ContainRelig2  ContainEthno2  Islam  \n",
       "0              0              0      0  \n",
       "1              1              0      0  \n",
       "2              0              1      0  \n",
       "3              0              0      0  \n",
       "4              0              0      0  "
      ]
     },
     "execution_count": 8,
     "metadata": {},
     "output_type": "execute_result"
    }
   ],
   "source": [
    "baad_covars.rename(columns = {'cowmastercountry':'country',\n",
    "                              'masterccode':'ccode',\n",
    "                       'mastertccode3606':'group_code',\n",
    "                       'fatalities19982005':'fatalities'},\n",
    "            inplace = True)\n",
    "baad_covars.replace({'country':{'United States of America':'US'}},\n",
    "            inplace = True)\n",
    "print('Dimensions: ',baad_covars.shape)\n",
    "baad_covars.head()"
   ]
  },
  {
   "cell_type": "markdown",
   "metadata": {
    "slideshow": {
     "slide_type": "slide"
    }
   },
   "source": [
    "# Set a useful index"
   ]
  },
  {
   "cell_type": "code",
   "execution_count": 9,
   "metadata": {
    "collapsed": false,
    "slideshow": {
     "slide_type": "fragment"
    }
   },
   "outputs": [
    {
     "data": {
      "text/html": [
       "<div>\n",
       "<table border=\"1\" class=\"dataframe\">\n",
       "  <thead>\n",
       "    <tr style=\"text-align: right;\">\n",
       "      <th></th>\n",
       "      <th>group</th>\n",
       "      <th>statespond</th>\n",
       "      <th>country</th>\n",
       "      <th>ccode</th>\n",
       "      <th>fatalities</th>\n",
       "      <th>OrgAge</th>\n",
       "      <th>ordsize</th>\n",
       "      <th>terrStrong</th>\n",
       "      <th>degree</th>\n",
       "      <th>ContainRelig</th>\n",
       "      <th>ContainEthno</th>\n",
       "      <th>LeftNoReligEthno</th>\n",
       "      <th>PureRelig</th>\n",
       "      <th>PureEthno</th>\n",
       "      <th>ReligEthno</th>\n",
       "      <th>ContainRelig2</th>\n",
       "      <th>ContainEthno2</th>\n",
       "      <th>Islam</th>\n",
       "    </tr>\n",
       "    <tr>\n",
       "      <th>group_code</th>\n",
       "      <th></th>\n",
       "      <th></th>\n",
       "      <th></th>\n",
       "      <th></th>\n",
       "      <th></th>\n",
       "      <th></th>\n",
       "      <th></th>\n",
       "      <th></th>\n",
       "      <th></th>\n",
       "      <th></th>\n",
       "      <th></th>\n",
       "      <th></th>\n",
       "      <th></th>\n",
       "      <th></th>\n",
       "      <th></th>\n",
       "      <th></th>\n",
       "      <th></th>\n",
       "      <th></th>\n",
       "    </tr>\n",
       "  </thead>\n",
       "  <tbody>\n",
       "    <tr>\n",
       "      <th>50</th>\n",
       "      <td>Animal Liberation Front (ALF)</td>\n",
       "      <td>0</td>\n",
       "      <td>US</td>\n",
       "      <td>2</td>\n",
       "      <td>0</td>\n",
       "      <td>30</td>\n",
       "      <td>0</td>\n",
       "      <td>0</td>\n",
       "      <td>1</td>\n",
       "      <td>0</td>\n",
       "      <td>0</td>\n",
       "      <td>0</td>\n",
       "      <td>0</td>\n",
       "      <td>0</td>\n",
       "      <td>0</td>\n",
       "      <td>0</td>\n",
       "      <td>0</td>\n",
       "      <td>0</td>\n",
       "    </tr>\n",
       "    <tr>\n",
       "      <th>89</th>\n",
       "      <td>Army of God</td>\n",
       "      <td>0</td>\n",
       "      <td>US</td>\n",
       "      <td>2</td>\n",
       "      <td>1</td>\n",
       "      <td>24</td>\n",
       "      <td>0</td>\n",
       "      <td>0</td>\n",
       "      <td>0</td>\n",
       "      <td>1</td>\n",
       "      <td>0</td>\n",
       "      <td>0</td>\n",
       "      <td>1</td>\n",
       "      <td>0</td>\n",
       "      <td>0</td>\n",
       "      <td>1</td>\n",
       "      <td>0</td>\n",
       "      <td>0</td>\n",
       "    </tr>\n",
       "    <tr>\n",
       "      <th>113</th>\n",
       "      <td>Cambodian Freedom Fighters (CFF)</td>\n",
       "      <td>0</td>\n",
       "      <td>US</td>\n",
       "      <td>2</td>\n",
       "      <td>0</td>\n",
       "      <td>8</td>\n",
       "      <td>0</td>\n",
       "      <td>0</td>\n",
       "      <td>0</td>\n",
       "      <td>0</td>\n",
       "      <td>1</td>\n",
       "      <td>0</td>\n",
       "      <td>0</td>\n",
       "      <td>0</td>\n",
       "      <td>0</td>\n",
       "      <td>0</td>\n",
       "      <td>1</td>\n",
       "      <td>0</td>\n",
       "    </tr>\n",
       "    <tr>\n",
       "      <th>126</th>\n",
       "      <td>Coalition to Save the Preserves (CSP)</td>\n",
       "      <td>0</td>\n",
       "      <td>US</td>\n",
       "      <td>2</td>\n",
       "      <td>0</td>\n",
       "      <td>6</td>\n",
       "      <td>0</td>\n",
       "      <td>0</td>\n",
       "      <td>0</td>\n",
       "      <td>0</td>\n",
       "      <td>0</td>\n",
       "      <td>0</td>\n",
       "      <td>0</td>\n",
       "      <td>0</td>\n",
       "      <td>0</td>\n",
       "      <td>0</td>\n",
       "      <td>0</td>\n",
       "      <td>0</td>\n",
       "    </tr>\n",
       "    <tr>\n",
       "      <th>153</th>\n",
       "      <td>Earth Liberation Front (ELF)</td>\n",
       "      <td>0</td>\n",
       "      <td>US</td>\n",
       "      <td>2</td>\n",
       "      <td>0</td>\n",
       "      <td>14</td>\n",
       "      <td>0</td>\n",
       "      <td>0</td>\n",
       "      <td>1</td>\n",
       "      <td>0</td>\n",
       "      <td>0</td>\n",
       "      <td>0</td>\n",
       "      <td>0</td>\n",
       "      <td>0</td>\n",
       "      <td>0</td>\n",
       "      <td>0</td>\n",
       "      <td>0</td>\n",
       "      <td>0</td>\n",
       "    </tr>\n",
       "  </tbody>\n",
       "</table>\n",
       "</div>"
      ],
      "text/plain": [
       "                                            group  statespond country  ccode  \\\n",
       "group_code                                                                     \n",
       "50                  Animal Liberation Front (ALF)           0      US      2   \n",
       "89                                    Army of God           0      US      2   \n",
       "113              Cambodian Freedom Fighters (CFF)           0      US      2   \n",
       "126         Coalition to Save the Preserves (CSP)           0      US      2   \n",
       "153                  Earth Liberation Front (ELF)           0      US      2   \n",
       "\n",
       "            fatalities  OrgAge  ordsize  terrStrong  degree  ContainRelig  \\\n",
       "group_code                                                                  \n",
       "50                   0      30        0           0       1             0   \n",
       "89                   1      24        0           0       0             1   \n",
       "113                  0       8        0           0       0             0   \n",
       "126                  0       6        0           0       0             0   \n",
       "153                  0      14        0           0       1             0   \n",
       "\n",
       "            ContainEthno  LeftNoReligEthno  PureRelig  PureEthno  ReligEthno  \\\n",
       "group_code                                                                     \n",
       "50                     0                 0          0          0           0   \n",
       "89                     0                 0          1          0           0   \n",
       "113                    1                 0          0          0           0   \n",
       "126                    0                 0          0          0           0   \n",
       "153                    0                 0          0          0           0   \n",
       "\n",
       "            ContainRelig2  ContainEthno2  Islam  \n",
       "group_code                                       \n",
       "50                      0              0      0  \n",
       "89                      1              0      0  \n",
       "113                     0              1      0  \n",
       "126                     0              0      0  \n",
       "153                     0              0      0  "
      ]
     },
     "execution_count": 9,
     "metadata": {},
     "output_type": "execute_result"
    }
   ],
   "source": [
    "#Set the index\n",
    "baad_covars.set_index(['group_code'],inplace = True)\n",
    "baad_covars.head()"
   ]
  },
  {
   "cell_type": "markdown",
   "metadata": {
    "slideshow": {
     "slide_type": "slide"
    }
   },
   "source": [
    "# Slicing\n",
    "* Get specific values from the dataframe. \n",
    "* Pandas has several slice operators. \n",
    "  * iloc can be used to index the row by ordered integer. i.e. first row is 0, second row is 1, etc. Use this option sparingly. Better practice to use the index you have created. \n",
    "  * loc uses the named index and columns. \n",
    "* Index using [row, columns]\n",
    "* For multiple columns, put your column names in a list\n",
    "* Use : for all values\n",
    "* Notice that the output keeps the index names. "
   ]
  },
  {
   "cell_type": "code",
   "execution_count": 10,
   "metadata": {
    "collapsed": false,
    "slideshow": {
     "slide_type": "fragment"
    }
   },
   "outputs": [
    {
     "data": {
      "text/plain": [
       "group_code\n",
       "50     0\n",
       "89     1\n",
       "113    0\n",
       "126    0\n",
       "153    0\n",
       "Name: fatalities, dtype: int64"
      ]
     },
     "execution_count": 10,
     "metadata": {},
     "output_type": "execute_result"
    }
   ],
   "source": [
    "baad_covars.loc[:, 'fatalities'].head()"
   ]
  },
  {
   "cell_type": "markdown",
   "metadata": {
    "slideshow": {
     "slide_type": "slide"
    }
   },
   "source": [
    "# Look at the data"
   ]
  },
  {
   "cell_type": "code",
   "execution_count": 15,
   "metadata": {
    "collapsed": false,
    "scrolled": false
   },
   "outputs": [
    {
     "name": "stdout",
     "output_type": "stream",
     "text": [
      "OrgAge    11.270886\n",
      "dtype: float64\n"
     ]
    },
    {
     "data": {
      "text/plain": [
       "<matplotlib.axes._subplots.AxesSubplot at 0x10d5cb00>"
      ]
     },
     "execution_count": 15,
     "metadata": {},
     "output_type": "execute_result"
    },
    {
     "data": {
      "image/png": "[encoded data removed]",
      "text/plain": [
       "<matplotlib.figure.Figure at 0xe087a90>"
      ]
     },
     "metadata": {},
     "output_type": "display_data"
    },
    {
     "data": {
      "image/png": "[encoded data removed]",
      "text/plain": [
       "<matplotlib.figure.Figure at 0x10d319b0>"
      ]
     },
     "metadata": {},
     "output_type": "display_data"
    }
   ],
   "source": [
    "baad_covars.loc[:,['OrgAge']].plot.density()\n",
    "print(baad_covars.loc[:,['OrgAge']].mean())\n",
    "baad_covars.loc[:,['fatalities']].plot.hist(bins=20)"
   ]
  },
  {
   "cell_type": "markdown",
   "metadata": {
    "slideshow": {
     "slide_type": "slide"
    }
   },
   "source": [
    "# Slicing Using Conditionals\n",
    "* Put conditionals in parentheses\n",
    "* Stack multiple conditionals using:\n",
    "  * & when both conditions must always apply\n",
    "  * | when at least one condition must apply"
   ]
  },
  {
   "cell_type": "code",
   "execution_count": 89,
   "metadata": {
    "collapsed": false,
    "slideshow": {
     "slide_type": "fragment"
    }
   },
   "outputs": [
    {
     "data": {
      "text/html": [
       "<div>\n",
       "<style>\n",
       "    .dataframe thead tr:only-child th {\n",
       "        text-align: right;\n",
       "    }\n",
       "\n",
       "    .dataframe thead th {\n",
       "        text-align: left;\n",
       "    }\n",
       "\n",
       "    .dataframe tbody tr th {\n",
       "        vertical-align: top;\n",
       "    }\n",
       "</style>\n",
       "<table border=\"1\" class=\"dataframe\">\n",
       "  <thead>\n",
       "    <tr style=\"text-align: right;\">\n",
       "      <th></th>\n",
       "      <th>group</th>\n",
       "      <th>country</th>\n",
       "    </tr>\n",
       "    <tr>\n",
       "      <th>group_code</th>\n",
       "      <th></th>\n",
       "      <th></th>\n",
       "    </tr>\n",
       "  </thead>\n",
       "  <tbody>\n",
       "    <tr>\n",
       "      <th>50</th>\n",
       "      <td>Animal Liberation Front (ALF)</td>\n",
       "      <td>US</td>\n",
       "    </tr>\n",
       "    <tr>\n",
       "      <th>153</th>\n",
       "      <td>Earth Liberation Front (ELF)</td>\n",
       "      <td>US</td>\n",
       "    </tr>\n",
       "    <tr>\n",
       "      <th>30035</th>\n",
       "      <td>Maras Salvatruchas</td>\n",
       "      <td>US</td>\n",
       "    </tr>\n",
       "    <tr>\n",
       "      <th>10042</th>\n",
       "      <td>Group of Guerilla Combatants of Jose Maria Mor...</td>\n",
       "      <td>Mexico</td>\n",
       "    </tr>\n",
       "    <tr>\n",
       "      <th>246</th>\n",
       "      <td>Justice Army of the Defenseless People</td>\n",
       "      <td>Mexico</td>\n",
       "    </tr>\n",
       "  </tbody>\n",
       "</table>\n",
       "</div>"
      ],
      "text/plain": [
       "                                                        group country\n",
       "group_code                                                           \n",
       "50                              Animal Liberation Front (ALF)      US\n",
       "153                              Earth Liberation Front (ELF)      US\n",
       "30035                                      Maras Salvatruchas      US\n",
       "10042       Group of Guerilla Combatants of Jose Maria Mor...  Mexico\n",
       "246                    Justice Army of the Defenseless People  Mexico"
      ]
     },
     "execution_count": 89,
     "metadata": {},
     "output_type": "execute_result"
    }
   ],
   "source": [
    "baad_covars.loc[(baad_covars.fatalities>1) | (baad_covars.degree>=1),\n",
    "               ['group','country']].head()"
   ]
  },
  {
   "cell_type": "markdown",
   "metadata": {
    "slideshow": {
     "slide_type": "slide"
    }
   },
   "source": [
    "# Handling Missing Values\n",
    "### First lets make some: "
   ]
  },
  {
   "cell_type": "code",
   "execution_count": 90,
   "metadata": {
    "collapsed": false,
    "slideshow": {
     "slide_type": "fragment"
    }
   },
   "outputs": [
    {
     "data": {
      "text/html": [
       "<div>\n",
       "<style>\n",
       "    .dataframe thead tr:only-child th {\n",
       "        text-align: right;\n",
       "    }\n",
       "\n",
       "    .dataframe thead th {\n",
       "        text-align: left;\n",
       "    }\n",
       "\n",
       "    .dataframe tbody tr th {\n",
       "        vertical-align: top;\n",
       "    }\n",
       "</style>\n",
       "<table border=\"1\" class=\"dataframe\">\n",
       "  <thead>\n",
       "    <tr style=\"text-align: right;\">\n",
       "      <th></th>\n",
       "      <th>terrStrong</th>\n",
       "    </tr>\n",
       "    <tr>\n",
       "      <th>group_code</th>\n",
       "      <th></th>\n",
       "    </tr>\n",
       "  </thead>\n",
       "  <tbody>\n",
       "    <tr>\n",
       "      <th>50</th>\n",
       "      <td>NaN</td>\n",
       "    </tr>\n",
       "    <tr>\n",
       "      <th>153</th>\n",
       "      <td>NaN</td>\n",
       "    </tr>\n",
       "    <tr>\n",
       "      <th>30035</th>\n",
       "      <td>NaN</td>\n",
       "    </tr>\n",
       "    <tr>\n",
       "      <th>10042</th>\n",
       "      <td>NaN</td>\n",
       "    </tr>\n",
       "    <tr>\n",
       "      <th>246</th>\n",
       "      <td>NaN</td>\n",
       "    </tr>\n",
       "  </tbody>\n",
       "</table>\n",
       "</div>"
      ],
      "text/plain": [
       "            terrStrong\n",
       "group_code            \n",
       "50                 NaN\n",
       "153                NaN\n",
       "30035              NaN\n",
       "10042              NaN\n",
       "246                NaN"
      ]
     },
     "execution_count": 90,
     "metadata": {},
     "output_type": "execute_result"
    }
   ],
   "source": [
    "baad_covars.loc[(baad_covars.fatalities>1) | (baad_covars.degree>=1),\n",
    "               ['terrStrong']] = None\n",
    "baad_covars.loc[(baad_covars.fatalities>1) | (baad_covars.degree>=1),\n",
    "               ['terrStrong']].head()"
   ]
  },
  {
   "cell_type": "markdown",
   "metadata": {
    "slideshow": {
     "slide_type": "slide"
    }
   },
   "source": [
    "# Handling Missing Values\n",
    "### We could index by them"
   ]
  },
  {
   "cell_type": "code",
   "execution_count": 91,
   "metadata": {
    "collapsed": false,
    "scrolled": true,
    "slideshow": {
     "slide_type": "fragment"
    }
   },
   "outputs": [
    {
     "data": {
      "text/plain": [
       "group_code\n",
       "50      NaN\n",
       "153     NaN\n",
       "30035   NaN\n",
       "10042   NaN\n",
       "246     NaN\n",
       "Name: terrStrong, dtype: float64"
      ]
     },
     "execution_count": 91,
     "metadata": {},
     "output_type": "execute_result"
    }
   ],
   "source": [
    "baad_covars.loc[baad_covars.terrStrong.isnull(),'terrStrong'].head()"
   ]
  },
  {
   "cell_type": "markdown",
   "metadata": {
    "slideshow": {
     "slide_type": "slide"
    }
   },
   "source": [
    "# Handling Missing Values\n",
    "### We could fill them: "
   ]
  },
  {
   "cell_type": "code",
   "execution_count": 92,
   "metadata": {
    "collapsed": false,
    "scrolled": true,
    "slideshow": {
     "slide_type": "fragment"
    }
   },
   "outputs": [
    {
     "data": {
      "text/plain": [
       "group_code\n",
       "50    -77.0\n",
       "89      0.0\n",
       "113     0.0\n",
       "126     0.0\n",
       "153   -77.0\n",
       "Name: terrStrong, dtype: float64"
      ]
     },
     "execution_count": 92,
     "metadata": {},
     "output_type": "execute_result"
    }
   ],
   "source": [
    "baad_covars['terrStrong'] = baad_covars.terrStrong.fillna(-77)\n",
    "baad_covars.terrStrong.head()"
   ]
  },
  {
   "cell_type": "markdown",
   "metadata": {
    "slideshow": {
     "slide_type": "slide"
    }
   },
   "source": [
    "# Making New Columns\n",
    "### Assign values to a new column based on other columns: "
   ]
  },
  {
   "cell_type": "code",
   "execution_count": 93,
   "metadata": {
    "collapsed": false,
    "scrolled": true,
    "slideshow": {
     "slide_type": "fragment"
    }
   },
   "outputs": [
    {
     "data": {
      "text/plain": [
       "group_code\n",
       "50     1\n",
       "89     0\n",
       "113    0\n",
       "126    0\n",
       "153    1\n",
       "Name: big, dtype: int64"
      ]
     },
     "execution_count": 93,
     "metadata": {},
     "output_type": "execute_result"
    }
   ],
   "source": [
    "baad_covars['big'] = 0\n",
    "baad_covars.loc[(baad_covars.fatalities>1) | \n",
    "                (baad_covars.degree>=1),\n",
    "               'big']=1\n",
    "baad_covars.big.head()"
   ]
  },
  {
   "cell_type": "markdown",
   "metadata": {
    "slideshow": {
     "slide_type": "slide"
    }
   },
   "source": [
    "# Reindexing: Pop the index out without losing it"
   ]
  },
  {
   "cell_type": "code",
   "execution_count": 95,
   "metadata": {
    "collapsed": false,
    "slideshow": {
     "slide_type": "fragment"
    }
   },
   "outputs": [
    {
     "data": {
      "text/html": [
       "<div>\n",
       "<style>\n",
       "    .dataframe thead tr:only-child th {\n",
       "        text-align: right;\n",
       "    }\n",
       "\n",
       "    .dataframe thead th {\n",
       "        text-align: left;\n",
       "    }\n",
       "\n",
       "    .dataframe tbody tr th {\n",
       "        vertical-align: top;\n",
       "    }\n",
       "</style>\n",
       "<table border=\"1\" class=\"dataframe\">\n",
       "  <thead>\n",
       "    <tr style=\"text-align: right;\">\n",
       "      <th></th>\n",
       "      <th>group_code</th>\n",
       "      <th>group</th>\n",
       "      <th>statespond</th>\n",
       "      <th>country</th>\n",
       "      <th>ccode</th>\n",
       "      <th>fatalities</th>\n",
       "      <th>OrgAge</th>\n",
       "      <th>ordsize</th>\n",
       "      <th>terrStrong</th>\n",
       "      <th>degree</th>\n",
       "      <th>ContainRelig</th>\n",
       "      <th>ContainEthno</th>\n",
       "      <th>LeftNoReligEthno</th>\n",
       "      <th>PureRelig</th>\n",
       "      <th>PureEthno</th>\n",
       "      <th>ReligEthno</th>\n",
       "      <th>ContainRelig2</th>\n",
       "      <th>ContainEthno2</th>\n",
       "      <th>Islam</th>\n",
       "      <th>big</th>\n",
       "    </tr>\n",
       "  </thead>\n",
       "  <tbody>\n",
       "    <tr>\n",
       "      <th>0</th>\n",
       "      <td>50</td>\n",
       "      <td>Animal Liberation Front (ALF)</td>\n",
       "      <td>0</td>\n",
       "      <td>US</td>\n",
       "      <td>2</td>\n",
       "      <td>0</td>\n",
       "      <td>30</td>\n",
       "      <td>0</td>\n",
       "      <td>-77.0</td>\n",
       "      <td>1</td>\n",
       "      <td>0</td>\n",
       "      <td>0</td>\n",
       "      <td>0</td>\n",
       "      <td>0</td>\n",
       "      <td>0</td>\n",
       "      <td>0</td>\n",
       "      <td>0</td>\n",
       "      <td>0</td>\n",
       "      <td>0</td>\n",
       "      <td>1</td>\n",
       "    </tr>\n",
       "    <tr>\n",
       "      <th>1</th>\n",
       "      <td>89</td>\n",
       "      <td>Army of God</td>\n",
       "      <td>0</td>\n",
       "      <td>US</td>\n",
       "      <td>2</td>\n",
       "      <td>1</td>\n",
       "      <td>24</td>\n",
       "      <td>0</td>\n",
       "      <td>0.0</td>\n",
       "      <td>0</td>\n",
       "      <td>1</td>\n",
       "      <td>0</td>\n",
       "      <td>0</td>\n",
       "      <td>1</td>\n",
       "      <td>0</td>\n",
       "      <td>0</td>\n",
       "      <td>1</td>\n",
       "      <td>0</td>\n",
       "      <td>0</td>\n",
       "      <td>0</td>\n",
       "    </tr>\n",
       "    <tr>\n",
       "      <th>2</th>\n",
       "      <td>113</td>\n",
       "      <td>Cambodian Freedom Fighters (CFF)</td>\n",
       "      <td>0</td>\n",
       "      <td>US</td>\n",
       "      <td>2</td>\n",
       "      <td>0</td>\n",
       "      <td>8</td>\n",
       "      <td>0</td>\n",
       "      <td>0.0</td>\n",
       "      <td>0</td>\n",
       "      <td>0</td>\n",
       "      <td>1</td>\n",
       "      <td>0</td>\n",
       "      <td>0</td>\n",
       "      <td>0</td>\n",
       "      <td>0</td>\n",
       "      <td>0</td>\n",
       "      <td>1</td>\n",
       "      <td>0</td>\n",
       "      <td>0</td>\n",
       "    </tr>\n",
       "    <tr>\n",
       "      <th>3</th>\n",
       "      <td>126</td>\n",
       "      <td>Coalition to Save the Preserves (CSP)</td>\n",
       "      <td>0</td>\n",
       "      <td>US</td>\n",
       "      <td>2</td>\n",
       "      <td>0</td>\n",
       "      <td>6</td>\n",
       "      <td>0</td>\n",
       "      <td>0.0</td>\n",
       "      <td>0</td>\n",
       "      <td>0</td>\n",
       "      <td>0</td>\n",
       "      <td>0</td>\n",
       "      <td>0</td>\n",
       "      <td>0</td>\n",
       "      <td>0</td>\n",
       "      <td>0</td>\n",
       "      <td>0</td>\n",
       "      <td>0</td>\n",
       "      <td>0</td>\n",
       "    </tr>\n",
       "    <tr>\n",
       "      <th>4</th>\n",
       "      <td>153</td>\n",
       "      <td>Earth Liberation Front (ELF)</td>\n",
       "      <td>0</td>\n",
       "      <td>US</td>\n",
       "      <td>2</td>\n",
       "      <td>0</td>\n",
       "      <td>14</td>\n",
       "      <td>0</td>\n",
       "      <td>-77.0</td>\n",
       "      <td>1</td>\n",
       "      <td>0</td>\n",
       "      <td>0</td>\n",
       "      <td>0</td>\n",
       "      <td>0</td>\n",
       "      <td>0</td>\n",
       "      <td>0</td>\n",
       "      <td>0</td>\n",
       "      <td>0</td>\n",
       "      <td>0</td>\n",
       "      <td>1</td>\n",
       "    </tr>\n",
       "  </tbody>\n",
       "</table>\n",
       "</div>"
      ],
      "text/plain": [
       "   group_code                                  group  statespond country  \\\n",
       "0          50          Animal Liberation Front (ALF)           0      US   \n",
       "1          89                            Army of God           0      US   \n",
       "2         113       Cambodian Freedom Fighters (CFF)           0      US   \n",
       "3         126  Coalition to Save the Preserves (CSP)           0      US   \n",
       "4         153           Earth Liberation Front (ELF)           0      US   \n",
       "\n",
       "   ccode  fatalities  OrgAge  ordsize  terrStrong  degree  ContainRelig  \\\n",
       "0      2           0      30        0       -77.0       1             0   \n",
       "1      2           1      24        0         0.0       0             1   \n",
       "2      2           0       8        0         0.0       0             0   \n",
       "3      2           0       6        0         0.0       0             0   \n",
       "4      2           0      14        0       -77.0       1             0   \n",
       "\n",
       "   ContainEthno  LeftNoReligEthno  PureRelig  PureEthno  ReligEthno  \\\n",
       "0             0                 0          0          0           0   \n",
       "1             0                 0          1          0           0   \n",
       "2             1                 0          0          0           0   \n",
       "3             0                 0          0          0           0   \n",
       "4             0                 0          0          0           0   \n",
       "\n",
       "   ContainRelig2  ContainEthno2  Islam  big  \n",
       "0              0              0      0    1  \n",
       "1              1              0      0    0  \n",
       "2              0              1      0    0  \n",
       "3              0              0      0    0  \n",
       "4              0              0      0    1  "
      ]
     },
     "execution_count": 95,
     "metadata": {},
     "output_type": "execute_result"
    }
   ],
   "source": [
    "baad_covars.reset_index(inplace=True)\n",
    "baad_covars.head()"
   ]
  },
  {
   "cell_type": "markdown",
   "metadata": {
    "slideshow": {
     "slide_type": "slide"
    }
   },
   "source": [
    "# Set a multi-index"
   ]
  },
  {
   "cell_type": "code",
   "execution_count": 96,
   "metadata": {
    "collapsed": false,
    "slideshow": {
     "slide_type": "fragment"
    }
   },
   "outputs": [
    {
     "data": {
      "text/html": [
       "<div>\n",
       "<style>\n",
       "    .dataframe thead tr:only-child th {\n",
       "        text-align: right;\n",
       "    }\n",
       "\n",
       "    .dataframe thead th {\n",
       "        text-align: left;\n",
       "    }\n",
       "\n",
       "    .dataframe tbody tr th {\n",
       "        vertical-align: top;\n",
       "    }\n",
       "</style>\n",
       "<table border=\"1\" class=\"dataframe\">\n",
       "  <thead>\n",
       "    <tr style=\"text-align: right;\">\n",
       "      <th></th>\n",
       "      <th></th>\n",
       "      <th>group_code</th>\n",
       "      <th>statespond</th>\n",
       "      <th>ccode</th>\n",
       "      <th>fatalities</th>\n",
       "      <th>OrgAge</th>\n",
       "      <th>ordsize</th>\n",
       "      <th>terrStrong</th>\n",
       "      <th>degree</th>\n",
       "      <th>ContainRelig</th>\n",
       "      <th>ContainEthno</th>\n",
       "      <th>LeftNoReligEthno</th>\n",
       "      <th>PureRelig</th>\n",
       "      <th>PureEthno</th>\n",
       "      <th>ReligEthno</th>\n",
       "      <th>ContainRelig2</th>\n",
       "      <th>ContainEthno2</th>\n",
       "      <th>Islam</th>\n",
       "      <th>big</th>\n",
       "    </tr>\n",
       "    <tr>\n",
       "      <th>group</th>\n",
       "      <th>country</th>\n",
       "      <th></th>\n",
       "      <th></th>\n",
       "      <th></th>\n",
       "      <th></th>\n",
       "      <th></th>\n",
       "      <th></th>\n",
       "      <th></th>\n",
       "      <th></th>\n",
       "      <th></th>\n",
       "      <th></th>\n",
       "      <th></th>\n",
       "      <th></th>\n",
       "      <th></th>\n",
       "      <th></th>\n",
       "      <th></th>\n",
       "      <th></th>\n",
       "      <th></th>\n",
       "      <th></th>\n",
       "    </tr>\n",
       "  </thead>\n",
       "  <tbody>\n",
       "    <tr>\n",
       "      <th>Animal Liberation Front (ALF)</th>\n",
       "      <th>US</th>\n",
       "      <td>50</td>\n",
       "      <td>0</td>\n",
       "      <td>2</td>\n",
       "      <td>0</td>\n",
       "      <td>30</td>\n",
       "      <td>0</td>\n",
       "      <td>-77.0</td>\n",
       "      <td>1</td>\n",
       "      <td>0</td>\n",
       "      <td>0</td>\n",
       "      <td>0</td>\n",
       "      <td>0</td>\n",
       "      <td>0</td>\n",
       "      <td>0</td>\n",
       "      <td>0</td>\n",
       "      <td>0</td>\n",
       "      <td>0</td>\n",
       "      <td>1</td>\n",
       "    </tr>\n",
       "    <tr>\n",
       "      <th>Army of God</th>\n",
       "      <th>US</th>\n",
       "      <td>89</td>\n",
       "      <td>0</td>\n",
       "      <td>2</td>\n",
       "      <td>1</td>\n",
       "      <td>24</td>\n",
       "      <td>0</td>\n",
       "      <td>0.0</td>\n",
       "      <td>0</td>\n",
       "      <td>1</td>\n",
       "      <td>0</td>\n",
       "      <td>0</td>\n",
       "      <td>1</td>\n",
       "      <td>0</td>\n",
       "      <td>0</td>\n",
       "      <td>1</td>\n",
       "      <td>0</td>\n",
       "      <td>0</td>\n",
       "      <td>0</td>\n",
       "    </tr>\n",
       "    <tr>\n",
       "      <th>Cambodian Freedom Fighters (CFF)</th>\n",
       "      <th>US</th>\n",
       "      <td>113</td>\n",
       "      <td>0</td>\n",
       "      <td>2</td>\n",
       "      <td>0</td>\n",
       "      <td>8</td>\n",
       "      <td>0</td>\n",
       "      <td>0.0</td>\n",
       "      <td>0</td>\n",
       "      <td>0</td>\n",
       "      <td>1</td>\n",
       "      <td>0</td>\n",
       "      <td>0</td>\n",
       "      <td>0</td>\n",
       "      <td>0</td>\n",
       "      <td>0</td>\n",
       "      <td>1</td>\n",
       "      <td>0</td>\n",
       "      <td>0</td>\n",
       "    </tr>\n",
       "    <tr>\n",
       "      <th>Coalition to Save the Preserves (CSP)</th>\n",
       "      <th>US</th>\n",
       "      <td>126</td>\n",
       "      <td>0</td>\n",
       "      <td>2</td>\n",
       "      <td>0</td>\n",
       "      <td>6</td>\n",
       "      <td>0</td>\n",
       "      <td>0.0</td>\n",
       "      <td>0</td>\n",
       "      <td>0</td>\n",
       "      <td>0</td>\n",
       "      <td>0</td>\n",
       "      <td>0</td>\n",
       "      <td>0</td>\n",
       "      <td>0</td>\n",
       "      <td>0</td>\n",
       "      <td>0</td>\n",
       "      <td>0</td>\n",
       "      <td>0</td>\n",
       "    </tr>\n",
       "    <tr>\n",
       "      <th>Earth Liberation Front (ELF)</th>\n",
       "      <th>US</th>\n",
       "      <td>153</td>\n",
       "      <td>0</td>\n",
       "      <td>2</td>\n",
       "      <td>0</td>\n",
       "      <td>14</td>\n",
       "      <td>0</td>\n",
       "      <td>-77.0</td>\n",
       "      <td>1</td>\n",
       "      <td>0</td>\n",
       "      <td>0</td>\n",
       "      <td>0</td>\n",
       "      <td>0</td>\n",
       "      <td>0</td>\n",
       "      <td>0</td>\n",
       "      <td>0</td>\n",
       "      <td>0</td>\n",
       "      <td>0</td>\n",
       "      <td>1</td>\n",
       "    </tr>\n",
       "  </tbody>\n",
       "</table>\n",
       "</div>"
      ],
      "text/plain": [
       "                                               group_code  statespond  ccode  \\\n",
       "group                                 country                                  \n",
       "Animal Liberation Front (ALF)         US               50           0      2   \n",
       "Army of God                           US               89           0      2   \n",
       "Cambodian Freedom Fighters (CFF)      US              113           0      2   \n",
       "Coalition to Save the Preserves (CSP) US              126           0      2   \n",
       "Earth Liberation Front (ELF)          US              153           0      2   \n",
       "\n",
       "                                               fatalities  OrgAge  ordsize  \\\n",
       "group                                 country                                \n",
       "Animal Liberation Front (ALF)         US                0      30        0   \n",
       "Army of God                           US                1      24        0   \n",
       "Cambodian Freedom Fighters (CFF)      US                0       8        0   \n",
       "Coalition to Save the Preserves (CSP) US                0       6        0   \n",
       "Earth Liberation Front (ELF)          US                0      14        0   \n",
       "\n",
       "                                               terrStrong  degree  \\\n",
       "group                                 country                       \n",
       "Animal Liberation Front (ALF)         US            -77.0       1   \n",
       "Army of God                           US              0.0       0   \n",
       "Cambodian Freedom Fighters (CFF)      US              0.0       0   \n",
       "Coalition to Save the Preserves (CSP) US              0.0       0   \n",
       "Earth Liberation Front (ELF)          US            -77.0       1   \n",
       "\n",
       "                                               ContainRelig  ContainEthno  \\\n",
       "group                                 country                               \n",
       "Animal Liberation Front (ALF)         US                  0             0   \n",
       "Army of God                           US                  1             0   \n",
       "Cambodian Freedom Fighters (CFF)      US                  0             1   \n",
       "Coalition to Save the Preserves (CSP) US                  0             0   \n",
       "Earth Liberation Front (ELF)          US                  0             0   \n",
       "\n",
       "                                               LeftNoReligEthno  PureRelig  \\\n",
       "group                                 country                                \n",
       "Animal Liberation Front (ALF)         US                      0          0   \n",
       "Army of God                           US                      0          1   \n",
       "Cambodian Freedom Fighters (CFF)      US                      0          0   \n",
       "Coalition to Save the Preserves (CSP) US                      0          0   \n",
       "Earth Liberation Front (ELF)          US                      0          0   \n",
       "\n",
       "                                               PureEthno  ReligEthno  \\\n",
       "group                                 country                          \n",
       "Animal Liberation Front (ALF)         US               0           0   \n",
       "Army of God                           US               0           0   \n",
       "Cambodian Freedom Fighters (CFF)      US               0           0   \n",
       "Coalition to Save the Preserves (CSP) US               0           0   \n",
       "Earth Liberation Front (ELF)          US               0           0   \n",
       "\n",
       "                                               ContainRelig2  ContainEthno2  \\\n",
       "group                                 country                                 \n",
       "Animal Liberation Front (ALF)         US                   0              0   \n",
       "Army of God                           US                   1              0   \n",
       "Cambodian Freedom Fighters (CFF)      US                   0              1   \n",
       "Coalition to Save the Preserves (CSP) US                   0              0   \n",
       "Earth Liberation Front (ELF)          US                   0              0   \n",
       "\n",
       "                                               Islam  big  \n",
       "group                                 country              \n",
       "Animal Liberation Front (ALF)         US           0    1  \n",
       "Army of God                           US           0    0  \n",
       "Cambodian Freedom Fighters (CFF)      US           0    0  \n",
       "Coalition to Save the Preserves (CSP) US           0    0  \n",
       "Earth Liberation Front (ELF)          US           0    1  "
      ]
     },
     "execution_count": 96,
     "metadata": {},
     "output_type": "execute_result"
    }
   ],
   "source": [
    "baad_covars.set_index(['group','country'],inplace = True)\n",
    "baad_covars.head()"
   ]
  },
  {
   "cell_type": "markdown",
   "metadata": {
    "slideshow": {
     "slide_type": "slide"
    }
   },
   "source": [
    "# Using the new index, make a new dataframe\n",
    "* Note the new slicing operator for multi-index"
   ]
  },
  {
   "cell_type": "code",
   "execution_count": 103,
   "metadata": {
    "collapsed": false,
    "slideshow": {
     "slide_type": "fragment"
    }
   },
   "outputs": [
    {
     "data": {
      "text/html": [
       "<div>\n",
       "<style>\n",
       "    .dataframe thead tr:only-child th {\n",
       "        text-align: right;\n",
       "    }\n",
       "\n",
       "    .dataframe thead th {\n",
       "        text-align: left;\n",
       "    }\n",
       "\n",
       "    .dataframe tbody tr th {\n",
       "        vertical-align: top;\n",
       "    }\n",
       "</style>\n",
       "<table border=\"1\" class=\"dataframe\">\n",
       "  <thead>\n",
       "    <tr style=\"text-align: right;\">\n",
       "      <th></th>\n",
       "      <th></th>\n",
       "      <th>degree</th>\n",
       "      <th>ContainRelig</th>\n",
       "      <th>ContainEthno</th>\n",
       "      <th>terrStrong</th>\n",
       "      <th>ordsize</th>\n",
       "      <th>OrgAge</th>\n",
       "    </tr>\n",
       "    <tr>\n",
       "      <th>group</th>\n",
       "      <th>country</th>\n",
       "      <th></th>\n",
       "      <th></th>\n",
       "      <th></th>\n",
       "      <th></th>\n",
       "      <th></th>\n",
       "      <th></th>\n",
       "    </tr>\n",
       "  </thead>\n",
       "  <tbody>\n",
       "    <tr>\n",
       "      <th>Free Aceh Movement (GAM)</th>\n",
       "      <th>Indonesia</th>\n",
       "      <td>1</td>\n",
       "      <td>1</td>\n",
       "      <td>1</td>\n",
       "      <td>-77.0</td>\n",
       "      <td>2</td>\n",
       "      <td>31</td>\n",
       "    </tr>\n",
       "    <tr>\n",
       "      <th>Jemaah Islamiya (JI)</th>\n",
       "      <th>Indonesia</th>\n",
       "      <td>2</td>\n",
       "      <td>1</td>\n",
       "      <td>0</td>\n",
       "      <td>-77.0</td>\n",
       "      <td>1</td>\n",
       "      <td>13</td>\n",
       "    </tr>\n",
       "    <tr>\n",
       "      <th>Laskar Jihad</th>\n",
       "      <th>Indonesia</th>\n",
       "      <td>3</td>\n",
       "      <td>1</td>\n",
       "      <td>1</td>\n",
       "      <td>-77.0</td>\n",
       "      <td>0</td>\n",
       "      <td>6</td>\n",
       "    </tr>\n",
       "    <tr>\n",
       "      <th>South Maluku Republic (RMS)</th>\n",
       "      <th>Indonesia</th>\n",
       "      <td>0</td>\n",
       "      <td>0</td>\n",
       "      <td>1</td>\n",
       "      <td>-77.0</td>\n",
       "      <td>2</td>\n",
       "      <td>8</td>\n",
       "    </tr>\n",
       "  </tbody>\n",
       "</table>\n",
       "</div>"
      ],
      "text/plain": [
       "                                       degree  ContainRelig  ContainEthno  \\\n",
       "group                       country                                         \n",
       "Free Aceh Movement (GAM)    Indonesia       1             1             1   \n",
       "Jemaah Islamiya (JI)        Indonesia       2             1             0   \n",
       "Laskar Jihad                Indonesia       3             1             1   \n",
       "South Maluku Republic (RMS) Indonesia       0             0             1   \n",
       "\n",
       "                                       terrStrong  ordsize  OrgAge  \n",
       "group                       country                                 \n",
       "Free Aceh Movement (GAM)    Indonesia       -77.0        2      31  \n",
       "Jemaah Islamiya (JI)        Indonesia       -77.0        1      13  \n",
       "Laskar Jihad                Indonesia       -77.0        0       6  \n",
       "South Maluku Republic (RMS) Indonesia       -77.0        2       8  "
      ]
     },
     "execution_count": 103,
     "metadata": {},
     "output_type": "execute_result"
    }
   ],
   "source": [
    "indonesia_grps = baad_covars.xs('Indonesia',level = 'country',drop_level=False)\n",
    "indonesia_grps = indonesia_grps.loc[indonesia_grps.fatalities>=1,['degree','ContainRelig',\n",
    "                                            'ContainEthno','terrStrong',\n",
    "                                            'ordsize','OrgAge']]\n",
    "indonesia_grps.head()"
   ]
  },
  {
   "cell_type": "markdown",
   "metadata": {
    "slideshow": {
     "slide_type": "slide"
    }
   },
   "source": [
    "# Warning: Making copies\n",
    "* If you set a variable as equal to an object, Python creates a reference rather than copying the whole object. More efficient, unless you really want to make a copy"
   ]
  },
  {
   "cell_type": "code",
   "execution_count": 67,
   "metadata": {
    "collapsed": false,
    "slideshow": {
     "slide_type": "fragment"
    }
   },
   "outputs": [
    {
     "name": "stdout",
     "output_type": "stream",
     "text": [
      "before:\n",
      "   A  B\n",
      "0  1  0\n",
      "1  2  1\n",
      "2  3  0\n",
      "3  4  1\n",
      "4  5  1\n",
      "after\n"
     ]
    },
    {
     "data": {
      "text/html": [
       "<div>\n",
       "<style>\n",
       "    .dataframe thead tr:only-child th {\n",
       "        text-align: right;\n",
       "    }\n",
       "\n",
       "    .dataframe thead th {\n",
       "        text-align: left;\n",
       "    }\n",
       "\n",
       "    .dataframe tbody tr th {\n",
       "        vertical-align: top;\n",
       "    }\n",
       "</style>\n",
       "<table border=\"1\" class=\"dataframe\">\n",
       "  <thead>\n",
       "    <tr style=\"text-align: right;\">\n",
       "      <th></th>\n",
       "      <th>A</th>\n",
       "      <th>B</th>\n",
       "    </tr>\n",
       "  </thead>\n",
       "  <tbody>\n",
       "    <tr>\n",
       "      <th>0</th>\n",
       "      <td>1</td>\n",
       "      <td>0</td>\n",
       "    </tr>\n",
       "    <tr>\n",
       "      <th>1</th>\n",
       "      <td>2</td>\n",
       "      <td>1</td>\n",
       "    </tr>\n",
       "    <tr>\n",
       "      <th>2</th>\n",
       "      <td>3</td>\n",
       "      <td>7</td>\n",
       "    </tr>\n",
       "    <tr>\n",
       "      <th>3</th>\n",
       "      <td>4</td>\n",
       "      <td>1</td>\n",
       "    </tr>\n",
       "    <tr>\n",
       "      <th>4</th>\n",
       "      <td>5</td>\n",
       "      <td>1</td>\n",
       "    </tr>\n",
       "  </tbody>\n",
       "</table>\n",
       "</div>"
      ],
      "text/plain": [
       "   A  B\n",
       "0  1  0\n",
       "1  2  1\n",
       "2  3  7\n",
       "3  4  1\n",
       "4  5  1"
      ]
     },
     "execution_count": 67,
     "metadata": {},
     "output_type": "execute_result"
    }
   ],
   "source": [
    "little_df = pd.DataFrame([1,2,3,4,5],columns = ['A'])\n",
    "little_df['B']=[0,1,0,1,1]\n",
    "copied_df = little_df\n",
    "print('before:')\n",
    "print(copied_df)\n",
    "little_df.loc[little_df.A == 3,'B'] = 7\n",
    "print('after')\n",
    "copied_df"
   ]
  },
  {
   "cell_type": "markdown",
   "metadata": {
    "slideshow": {
     "slide_type": "slide"
    }
   },
   "source": [
    "# What happened?\n",
    "* copied_df changed when little_df changed. \n",
    "* Let's fix that: import \"copy\""
   ]
  },
  {
   "cell_type": "code",
   "execution_count": 68,
   "metadata": {
    "collapsed": false,
    "slideshow": {
     "slide_type": "fragment"
    }
   },
   "outputs": [
    {
     "name": "stdout",
     "output_type": "stream",
     "text": [
      "before:\n",
      "   A  B\n",
      "0  1  0\n",
      "1  2  1\n",
      "2  3  0\n",
      "3  4  1\n",
      "4  5  1\n",
      "after\n"
     ]
    },
    {
     "data": {
      "text/html": [
       "<div>\n",
       "<style>\n",
       "    .dataframe thead tr:only-child th {\n",
       "        text-align: right;\n",
       "    }\n",
       "\n",
       "    .dataframe thead th {\n",
       "        text-align: left;\n",
       "    }\n",
       "\n",
       "    .dataframe tbody tr th {\n",
       "        vertical-align: top;\n",
       "    }\n",
       "</style>\n",
       "<table border=\"1\" class=\"dataframe\">\n",
       "  <thead>\n",
       "    <tr style=\"text-align: right;\">\n",
       "      <th></th>\n",
       "      <th>A</th>\n",
       "      <th>B</th>\n",
       "    </tr>\n",
       "  </thead>\n",
       "  <tbody>\n",
       "    <tr>\n",
       "      <th>0</th>\n",
       "      <td>1</td>\n",
       "      <td>0</td>\n",
       "    </tr>\n",
       "    <tr>\n",
       "      <th>1</th>\n",
       "      <td>2</td>\n",
       "      <td>1</td>\n",
       "    </tr>\n",
       "    <tr>\n",
       "      <th>2</th>\n",
       "      <td>3</td>\n",
       "      <td>0</td>\n",
       "    </tr>\n",
       "    <tr>\n",
       "      <th>3</th>\n",
       "      <td>4</td>\n",
       "      <td>1</td>\n",
       "    </tr>\n",
       "    <tr>\n",
       "      <th>4</th>\n",
       "      <td>5</td>\n",
       "      <td>1</td>\n",
       "    </tr>\n",
       "  </tbody>\n",
       "</table>\n",
       "</div>"
      ],
      "text/plain": [
       "   A  B\n",
       "0  1  0\n",
       "1  2  1\n",
       "2  3  0\n",
       "3  4  1\n",
       "4  5  1"
      ]
     },
     "execution_count": 68,
     "metadata": {},
     "output_type": "execute_result"
    }
   ],
   "source": [
    "import copy\n",
    "little_df = pd.DataFrame([1,2,3,4,5],columns = ['A'])\n",
    "little_df['B']=[0,1,0,1,1]\n",
    "copied_df = little_df.copy()\n",
    "print('before:')\n",
    "print(copied_df)\n",
    "little_df.loc[little_df.A == 3,'B'] = 7\n",
    "print('after')\n",
    "copied_df"
   ]
  },
  {
   "cell_type": "markdown",
   "metadata": {
    "slideshow": {
     "slide_type": "slide"
    }
   },
   "source": [
    "# Saving\n",
    "* Unlike R or Stata, can't just save your workspace\n",
    "* Save as a csv now that we have the data we want\n",
    "* Pickle a variable to recreate it without having to reset indexes, etc. "
   ]
  },
  {
   "cell_type": "code",
   "execution_count": 107,
   "metadata": {
    "collapsed": true,
    "slideshow": {
     "slide_type": "fragment"
    }
   },
   "outputs": [],
   "source": [
    "indonesia_grps.to_csv('indonesia.csv')\n",
    "pickle.dump(indonesia_grps, open('indonesia.p','wb'))\n",
    "indonesia_grps = pickle.load(open('indonesia.p','rb'))"
   ]
  },
  {
   "cell_type": "markdown",
   "metadata": {
    "slideshow": {
     "slide_type": "slide"
    }
   },
   "source": [
    "# Next time: \n",
    "- Scrape Data from the internet\n",
    "- Clean the data\n",
    "- Merge that data into our data\n",
    "- Run a basic stats and ML model"
   ]
  },
  {
   "cell_type": "code",
   "execution_count": null,
   "metadata": {
    "collapsed": true,
    "slideshow": {
     "slide_type": "slide"
    }
   },
   "outputs": [],
   "source": []
  },
  {
   "cell_type": "code",
   "execution_count": null,
   "metadata": {
    "collapsed": true,
    "slideshow": {
     "slide_type": "slide"
    }
   },
   "outputs": [],
   "source": []
  },
  {
   "cell_type": "markdown",
   "metadata": {
    "slideshow": {
     "slide_type": "slide"
    }
   },
   "source": [
    "# Until then, here's some reference code on merging your data sets"
   ]
  },
  {
   "cell_type": "markdown",
   "metadata": {
    "slideshow": {
     "slide_type": "slide"
    }
   },
   "source": [
    "# Merging and Concatenating\n",
    "\n",
    "* Merges automatically if shared index"
   ]
  },
  {
   "cell_type": "code",
   "execution_count": 73,
   "metadata": {
    "collapsed": false
   },
   "outputs": [
    {
     "data": {
      "text/html": [
       "<div>\n",
       "<style>\n",
       "    .dataframe thead tr:only-child th {\n",
       "        text-align: right;\n",
       "    }\n",
       "\n",
       "    .dataframe thead th {\n",
       "        text-align: left;\n",
       "    }\n",
       "\n",
       "    .dataframe tbody tr th {\n",
       "        vertical-align: top;\n",
       "    }\n",
       "</style>\n",
       "<table border=\"1\" class=\"dataframe\">\n",
       "  <thead>\n",
       "    <tr style=\"text-align: right;\">\n",
       "      <th></th>\n",
       "      <th>A</th>\n",
       "      <th>B</th>\n",
       "      <th>C</th>\n",
       "    </tr>\n",
       "  </thead>\n",
       "  <tbody>\n",
       "    <tr>\n",
       "      <th>0</th>\n",
       "      <td>1</td>\n",
       "      <td>0</td>\n",
       "      <td>pear</td>\n",
       "    </tr>\n",
       "    <tr>\n",
       "      <th>1</th>\n",
       "      <td>2</td>\n",
       "      <td>1</td>\n",
       "      <td>banana</td>\n",
       "    </tr>\n",
       "    <tr>\n",
       "      <th>2</th>\n",
       "      <td>3</td>\n",
       "      <td>7</td>\n",
       "      <td>apple</td>\n",
       "    </tr>\n",
       "    <tr>\n",
       "      <th>3</th>\n",
       "      <td>4</td>\n",
       "      <td>1</td>\n",
       "      <td>grape</td>\n",
       "    </tr>\n",
       "    <tr>\n",
       "      <th>4</th>\n",
       "      <td>5</td>\n",
       "      <td>1</td>\n",
       "      <td>orange</td>\n",
       "    </tr>\n",
       "  </tbody>\n",
       "</table>\n",
       "</div>"
      ],
      "text/plain": [
       "   A  B       C\n",
       "0  1  0    pear\n",
       "1  2  1  banana\n",
       "2  3  7   apple\n",
       "3  4  1   grape\n",
       "4  5  1  orange"
      ]
     },
     "execution_count": 73,
     "metadata": {},
     "output_type": "execute_result"
    }
   ],
   "source": [
    "C = pd.DataFrame(['apple','orange','grape','pear','banana'],\n",
    "                 columns = ['C'],\n",
    "                 index = [2,4,3,0,1])\n",
    "little_df['C'] = C\n",
    "little_df"
   ]
  },
  {
   "cell_type": "markdown",
   "metadata": {},
   "source": [
    "### Joins\n",
    "* Same as SQL, inner and outer"
   ]
  },
  {
   "cell_type": "code",
   "execution_count": 85,
   "metadata": {
    "collapsed": false
   },
   "outputs": [
    {
     "name": "stdout",
     "output_type": "stream",
     "text": [
      "C:\n",
      "        C     cuts\n",
      "2   apple   slices\n",
      "4  orange   wedges\n",
      "3   grape    whole\n",
      "a   apple  spirals\n",
      "Inner: Intersection\n",
      "   A  B     C_x     C_y    cuts\n",
      "2  3  7   apple   apple  slices\n",
      "3  4  1   grape   grape   whole\n",
      "4  5  1  orange  orange  wedges\n",
      "Outer: Keep all rows\n",
      "     A    B     C_x     C_y     cuts\n",
      "0  1.0  0.0    pear     NaN      NaN\n",
      "1  2.0  1.0  banana     NaN      NaN\n",
      "2  3.0  7.0   apple   apple   slices\n",
      "3  4.0  1.0   grape   grape    whole\n",
      "4  5.0  1.0  orange  orange   wedges\n",
      "a  NaN  NaN     NaN   apple  spirals\n",
      "Left: Keep little_df\n",
      "   A  B     C_x     C_y    cuts\n",
      "0  1  0    pear     NaN     NaN\n",
      "1  2  1  banana     NaN     NaN\n",
      "2  3  7   apple   apple  slices\n",
      "3  4  1   grape   grape   whole\n",
      "4  5  1  orange  orange  wedges\n",
      "Right: Keep C\n",
      "     A    B     C_x     C_y     cuts\n",
      "2  3.0  7.0   apple   apple   slices\n",
      "4  5.0  1.0  orange  orange   wedges\n",
      "3  4.0  1.0   grape   grape    whole\n",
      "a  NaN  NaN     NaN   apple  spirals\n",
      "Outer, merging on column instead of index\n",
      "     A    B       C     cuts\n",
      "0  1.0  0.0    pear      NaN\n",
      "1  2.0  1.0  banana      NaN\n",
      "2  3.0  7.0   apple   slices\n",
      "3  4.0  1.0   grape    whole\n",
      "4  5.0  1.0  orange   wedges\n",
      "a  NaN  NaN   apple  spirals\n"
     ]
    },
    {
     "name": "stderr",
     "output_type": "stream",
     "text": [
      "/home/law98/anaconda/envs/p3env/lib/python3.6/site-packages/pandas/core/indexes/base.py:3033: RuntimeWarning: '<' not supported between instances of 'int' and 'str', sort order is undefined for incomparable objects\n",
      "  return this.join(other, how=how, return_indexers=return_indexers)\n"
     ]
    }
   ],
   "source": [
    "C = pd.DataFrame(['apple','orange','grape','apple'],\n",
    "                 columns = ['C'],\n",
    "                 index = [2,4,3,'a'])\n",
    "C['cuts']=['slices','wedges','whole','spirals']\n",
    "print('C:')\n",
    "print(C)\n",
    "print('Inner: Intersection')\n",
    "print(little_df.merge(right=C,\n",
    "                how='inner',\n",
    "                on=None,\n",
    "                left_index = True,\n",
    "                right_index =True))\n",
    "print('Outer: Keep all rows')\n",
    "print(little_df.merge(right=C,\n",
    "                how='outer',\n",
    "                on=None,\n",
    "                left_index = True,\n",
    "                right_index =True))\n",
    "\n",
    "print('Left: Keep little_df')\n",
    "print(little_df.merge(right=C,\n",
    "                how='left',\n",
    "                on=None,\n",
    "                left_index = True,\n",
    "                right_index =True))\n",
    "print('Right: Keep C')\n",
    "print(little_df.merge(right=C,\n",
    "                how='right',\n",
    "                on=None,\n",
    "                left_index = True,\n",
    "                right_index =True))\n",
    "\n",
    "print('Outer, merging on column instead of index')\n",
    "print(little_df.merge(right=C,\n",
    "                how='outer',\n",
    "                on='C',\n",
    "                left_index = True,\n",
    "                right_index =True))"
   ]
  },
  {
   "cell_type": "markdown",
   "metadata": {},
   "source": [
    "### Concatenate\n",
    "* Stack dataframes on top of one another\n",
    "* Stack dataframes beside one another"
   ]
  },
  {
   "cell_type": "code",
   "execution_count": 94,
   "metadata": {
    "collapsed": false
   },
   "outputs": [
    {
     "data": {
      "text/html": [
       "<div>\n",
       "<style>\n",
       "    .dataframe thead tr:only-child th {\n",
       "        text-align: right;\n",
       "    }\n",
       "\n",
       "    .dataframe thead th {\n",
       "        text-align: left;\n",
       "    }\n",
       "\n",
       "    .dataframe tbody tr th {\n",
       "        vertical-align: top;\n",
       "    }\n",
       "</style>\n",
       "<table border=\"1\" class=\"dataframe\">\n",
       "  <thead>\n",
       "    <tr style=\"text-align: right;\">\n",
       "      <th></th>\n",
       "      <th>A</th>\n",
       "      <th>B</th>\n",
       "      <th>C</th>\n",
       "    </tr>\n",
       "  </thead>\n",
       "  <tbody>\n",
       "    <tr>\n",
       "      <th>0</th>\n",
       "      <td>1</td>\n",
       "      <td>0</td>\n",
       "      <td>pear</td>\n",
       "    </tr>\n",
       "    <tr>\n",
       "      <th>1</th>\n",
       "      <td>2</td>\n",
       "      <td>1</td>\n",
       "      <td>banana</td>\n",
       "    </tr>\n",
       "    <tr>\n",
       "      <th>2</th>\n",
       "      <td>3</td>\n",
       "      <td>7</td>\n",
       "      <td>apple</td>\n",
       "    </tr>\n",
       "    <tr>\n",
       "      <th>3</th>\n",
       "      <td>4</td>\n",
       "      <td>1</td>\n",
       "      <td>grape</td>\n",
       "    </tr>\n",
       "    <tr>\n",
       "      <th>4</th>\n",
       "      <td>5</td>\n",
       "      <td>1</td>\n",
       "      <td>orange</td>\n",
       "    </tr>\n",
       "    <tr>\n",
       "      <th>0</th>\n",
       "      <td>6</td>\n",
       "      <td>7</td>\n",
       "      <td>peach</td>\n",
       "    </tr>\n",
       "    <tr>\n",
       "      <th>p</th>\n",
       "      <td>6</td>\n",
       "      <td>7</td>\n",
       "      <td>peach</td>\n",
       "    </tr>\n",
       "  </tbody>\n",
       "</table>\n",
       "</div>"
      ],
      "text/plain": [
       "   A  B       C\n",
       "0  1  0    pear\n",
       "1  2  1  banana\n",
       "2  3  7   apple\n",
       "3  4  1   grape\n",
       "4  5  1  orange\n",
       "0  6  7   peach\n",
       "p  6  7   peach"
      ]
     },
     "execution_count": 94,
     "metadata": {},
     "output_type": "execute_result"
    }
   ],
   "source": [
    "add_df = pd.DataFrame({'A':[6],'B':[7],'C':'peach'},index= ['p'])\n",
    "little_df = pd.concat([little_df,add_df])\n",
    "little_df"
   ]
  }
 ],
 "metadata": {
  "celltoolbar": "Slideshow",
  "kernelspec": {
   "display_name": "Python 2",
   "language": "python",
   "name": "python2"
  },
  "language_info": {
   "codemirror_mode": {
    "name": "ipython",
    "version": 2
   },
   "file_extension": ".py",
   "mimetype": "text/x-python",
   "name": "python",
   "nbconvert_exporter": "python",
   "pygments_lexer": "ipython2",
   "version": "2.7.11"
  }
 },
 "nbformat": 4,
 "nbformat_minor": 2
}
